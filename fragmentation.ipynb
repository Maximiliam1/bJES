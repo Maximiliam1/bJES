{
 "cells": [
  {
   "cell_type": "code",
   "execution_count": 1,
   "id": "ff260a7f",
   "metadata": {},
   "outputs": [],
   "source": [
    "import ROOT\n",
    "import numpy as np\n",
    "import pandas as pd\n",
    "import matplotlib.pyplot as plt\n",
    "import mplhep as hep"
   ]
  },
  {
   "cell_type": "code",
   "execution_count": 2,
   "id": "925be303",
   "metadata": {},
   "outputs": [],
   "source": [
    "%%script false --no raise error\n",
    "# Read files\n",
    "with open(\"ttbar_file_complete.txt\", \"r\") as f:\n",
    "    files = [line.strip() for line in f if line.strip()]\n",
    "    \n",
    "    \n",
    "tree_name = \"Events\"\n",
    "df = ROOT.RDataFrame(tree_name, files)\n",
    "print(\"Total entries:\", df.Count().GetValue())"
   ]
  },
  {
   "cell_type": "code",
   "execution_count": 3,
   "id": "bee47252",
   "metadata": {},
   "outputs": [
    {
     "name": "stderr",
     "output_type": "stream",
     "text": [
      "Warning in <TClass::Init>: no dictionary for class edm::Hash<1> is available\n",
      "Warning in <TClass::Init>: no dictionary for class edm::ProcessHistory is available\n",
      "Warning in <TClass::Init>: no dictionary for class edm::ProcessConfiguration is available\n",
      "Warning in <TClass::Init>: no dictionary for class edm::ParameterSetBlob is available\n",
      "Warning in <TClass::Init>: no dictionary for class pair<edm::Hash<1>,edm::ParameterSetBlob> is available\n"
     ]
    }
   ],
   "source": [
    "file = 'ttbar.root'\n",
    "df = ROOT.RDataFrame(\"Events\", file)"
   ]
  },
  {
   "cell_type": "code",
   "execution_count": 4,
   "id": "38f01308",
   "metadata": {},
   "outputs": [
    {
     "data": {
      "text/plain": [
       "True"
      ]
     },
     "execution_count": 4,
     "metadata": {},
     "output_type": "execute_result"
    }
   ],
   "source": [
    "# Helper function that loops over jets and creates a vector of four vectors\n",
    "make4vector = \"\"\"\n",
    "ROOT::RVec<ROOT::Math::PtEtaPhiMVector> Make4Vector(\n",
    "ROOT::RVec<float> Jet_pt, \n",
    "ROOT::RVec<float> Jet_eta, \n",
    "ROOT::RVec<float> Jet_phi,\n",
    "ROOT::RVec<float> Jet_mass){\n",
    "\n",
    "ROOT::RVec<ROOT::Math::PtEtaPhiMVector> jets;\n",
    "int nJets = Jet_pt.size();\n",
    "\n",
    "for (int idx = 0; idx < nJets; idx++){\n",
    "    auto jet = ROOT::Math::PtEtaPhiMVector(Jet_pt[idx], Jet_eta[idx], Jet_phi[idx], Jet_mass[idx]);\n",
    "    jets.push_back(jet);\n",
    "}\n",
    "return jets;\n",
    "}\n",
    "\n",
    "\"\"\"\n",
    "\n",
    "ROOT.gInterpreter.Declare(make4vector)"
   ]
  },
  {
   "cell_type": "code",
   "execution_count": null,
   "id": "1db6696b",
   "metadata": {},
   "outputs": [],
   "source": [
    "FindHadrons = \"\"\"\n",
    "pair<ROOT::Math::PtEtaPhiMVector, ROOT::Math::PtEtaPhiMVector> FindDHadron(\n",
    "ROOT::RVec<int> ParticleFlavour,\n",
    "ROOT::RVec<int> MotherIdx,\n",
    "ROOT::RVec<float> Jet_pt, \n",
    "ROOT::RVec<float> Jet_eta, \n",
    "ROOT::RVec<float> Jet_phi,\n",
    "ROOT::RVec<float> Jet_mass\n",
    "){\n",
    "\n",
    "int nParticles = ParticleFlavour.size();\n",
    "ROOT::RVec<ROOT::RVec<int>> ReturnVector;\n",
    "float ReturnPt = 0;\n",
    "int Return_pdgId;\n",
    "std::vector<int> BMesons = {-511, -513, -521, -523, -531, -533};\n",
    "std::vector<int> DMesons = {-411, -413, -421, -423, -431, -433};\n",
    "\n",
    "// loop through every particle in event\n",
    "for (int ii = 0; ii < nParticles; ii++){\n",
    "    int Flavour = ParticleFlavour[ii];\n",
    "}\n",
    "\n",
    "}\n",
    "\n",
    "\"\"\""
   ]
  },
  {
   "cell_type": "code",
   "execution_count": 5,
   "id": "cdd12d73",
   "metadata": {},
   "outputs": [
    {
     "data": {
      "text/plain": [
       "True"
      ]
     },
     "execution_count": 5,
     "metadata": {},
     "output_type": "execute_result"
    }
   ],
   "source": [
    "# Squared DeltaR function for jet and particle matching\n",
    "DeltaR = \"\"\"\n",
    "Float_t DeltaR(Float_t eta1, Float_t eta2, Float_t phi1, Float_t phi2)\n",
    "{    \n",
    "    Float_t dEta = eta2 - eta1;\n",
    "    Float_t dPhi = TVector2::Phi_mpi_pi(phi2 - phi1); // properly handle phi wrapping\n",
    "    return pow(dEta, 2) + pow(dPhi, 2);\n",
    "    }\n",
    "\"\"\"\n",
    "ROOT.gInterpreter.Declare(DeltaR)"
   ]
  },
  {
   "cell_type": "code",
   "execution_count": null,
   "id": "5b9f7fc6",
   "metadata": {},
   "outputs": [
    {
     "data": {
      "text/plain": [
       "True"
      ]
     },
     "execution_count": 6,
     "metadata": {},
     "output_type": "execute_result"
    }
   ],
   "source": [
    "# Find corresponding reco jets for gen jets\n",
    "# If the DeltaR is too large, returns a vector of (-1,-1,-1,-1)\n",
    "JetMatch = \"\"\"\n",
    "\n",
    "ROOT::RVec <ROOT::Math::PtEtaPhiMVector> JetMatch(\n",
    "ROOT::VecOps::RVec<ROOT::Math::PtEtaPhiMVector> GenEvent4Vector, \n",
    "ROOT::VecOps::RVec<ROOT::Math::PtEtaPhiMVector> RecoEvent4Vector)\n",
    "{\n",
    "\n",
    "    Int_t nJets = GenEvent4Vector.size();\n",
    "    ROOT::RVec <ROOT::Math::PtEtaPhiMVector> ReturnVector(nJets, ROOT::Math::PtEtaPhiMVector(-1,-1,-1,-1)) ;\n",
    "\n",
    "    //Storing Eta for finding the indices\n",
    "    ROOT::RVec<ROOT::Math::PtEtaPhiMVector> RecoEvent = RecoEvent4Vector;\n",
    "    ROOT::Math::PtEtaPhiMVector Cand4Vector;\n",
    "\n",
    "    // Lambda function to remove the elements\n",
    "    auto is_equal = [](const ROOT::Math::PtEtaPhiMVector& a, const ROOT::Math::PtEtaPhiMVector& b, double tol = 1e-5) {\n",
    "    return (std::abs(a.Pt() - b.Pt()) < tol &&\n",
    "            std::abs(a.Eta() - b.Eta()) < tol &&\n",
    "            std::abs(a.Phi() - b.Phi()) < tol &&\n",
    "            std::abs(a.M() - b.M()) < tol);\n",
    "    };\n",
    "    \n",
    "    // Loop through GenJets\n",
    "    for (int idxGen = 0; idxGen < nJets; idxGen++){\n",
    "\n",
    "        ROOT::RVec <Float_t> dR(RecoEvent.size());\n",
    "        // Loop through RecoJets\n",
    "        for (int idxReco = 0; idxReco < RecoEvent.size(); idxReco++){\n",
    "            dR[idxReco] = DeltaR(GenEvent4Vector[idxGen].Eta(), RecoEvent[idxReco].Eta(), GenEvent4Vector[idxGen].Phi(), RecoEvent[idxReco].Phi());\n",
    "        }\n",
    "\n",
    "        // Finding the minimum\n",
    "        auto MinIdx = ROOT::VecOps::ArgMin(dR);\n",
    "        Cand4Vector = RecoEvent[MinIdx];\n",
    "\n",
    "        // Ensure that matching is proper with bound of DeltaR < 0.3\n",
    "        if (dR[MinIdx] < 0.3){\n",
    "            ReturnVector[idxGen] = Cand4Vector;\n",
    "\n",
    "            // Remove the chosen vectors\n",
    "            RecoEvent.erase(std::remove_if(RecoEvent.begin(), RecoEvent.end(),\n",
    "                [&](const ROOT::Math::PtEtaPhiMVector& v) {\n",
    "                    return is_equal(v, Cand4Vector);\n",
    "                }), RecoEvent.end());\n",
    "\n",
    "        }\n",
    "        else{\n",
    "            ReturnVector[idxGen] = ROOT::Math::PtEtaPhiMVector(-1,-1,-1,-1);\n",
    "        }\n",
    "    }\n",
    "    return ReturnVector;\n",
    "}\n",
    "\"\"\"\n",
    "ROOT.gInterpreter.Declare(JetMatch)\n"
   ]
  },
  {
   "cell_type": "code",
   "execution_count": 7,
   "id": "46b113c2",
   "metadata": {},
   "outputs": [
    {
     "data": {
      "text/plain": [
       "True"
      ]
     },
     "execution_count": 7,
     "metadata": {},
     "output_type": "execute_result"
    }
   ],
   "source": [
    "# The ill-matched jets are tagged with vector of -1\n",
    "# The function removes all of them\n",
    "RemoveJets = \"\"\"\n",
    "auto RemoveJets(\n",
    "auto Jets,\n",
    "ROOT::RVec <ROOT::Math::PtEtaPhiMVector> Condition\n",
    "){\n",
    "    auto ReturnVector = decltype(Jets){};\n",
    "    for (int ii = 0; ii < Jets.size(); ii++){\n",
    "        if (Condition[ii].Pt() != -1)\n",
    "            ReturnVector.push_back(Jets[ii]);\n",
    "    }\n",
    "    return ReturnVector;\n",
    "}\n",
    "\"\"\"\n",
    "\n",
    "ROOT.gInterpreter.Declare(RemoveJets)"
   ]
  },
  {
   "cell_type": "code",
   "execution_count": 8,
   "id": "df783cbc",
   "metadata": {},
   "outputs": [
    {
     "data": {
      "text/plain": [
       "True"
      ]
     },
     "execution_count": 8,
     "metadata": {},
     "output_type": "execute_result"
    }
   ],
   "source": [
    "# Finding b and gluons\n",
    "# Takes specific flavour\n",
    "Filter = \"\"\"\n",
    "ROOT::RVec <ROOT::Math::PtEtaPhiMVector> FilterFlavour(ROOT::RVec<ROOT::Math::PtEtaPhiMVector> CandVector, ROOT::RVec<Int_t> FlavourVector, Int_t Flavour)\n",
    "{\n",
    "    ROOT::RVec <ROOT::Math::PtEtaPhiMVector> FinalVector;\n",
    "\n",
    "    for (int idx = 0; idx < FlavourVector.size(); idx++){\n",
    "    \n",
    "        // Choose only with specific flavour\n",
    "        if (abs(FlavourVector[idx]) == Flavour){\n",
    "            FinalVector.push_back( CandVector[idx]);\n",
    "        }\n",
    "    }\n",
    "    return FinalVector;\n",
    "}\n",
    "\"\"\"\n",
    "\n",
    "ROOT.gInterpreter.Declare(Filter)\n",
    "\n"
   ]
  },
  {
   "cell_type": "code",
   "execution_count": null,
   "id": "824a3670",
   "metadata": {},
   "outputs": [
    {
     "data": {
      "text/plain": [
       "True"
      ]
     },
     "execution_count": 9,
     "metadata": {},
     "output_type": "execute_result"
    }
   ],
   "source": [
    "# Function to find B hadrons \n",
    "FindBHadron =\"\"\"\n",
    "ROOT::RVec<ROOT::Math::PtEtaPhiMVector> FindBHadron(ROOT::RVec<int> FlavourID, ROOT::RVec<float> PartPt, ROOT::RVec<float> PartEta, ROOT::RVec<float> PartPhi, ROOT::RVec<float> PartM)\n",
    "{\n",
    "    ROOT::RVec <ROOT::Math::PtEtaPhiMVector> HadronVector;\n",
    "    int nPart = FlavourID.size();\n",
    "\n",
    "    // Loop through particles\n",
    "    for (int idx = 0; idx < nPart; idx++){\n",
    "        int CandVal = abs(FlavourID[idx]);\n",
    "\n",
    "        // Check if the particle is B hadron\n",
    "        if ((CandVal >= 500 && CandVal < 600) || (CandVal >= 5000 && CandVal < 6000)){\n",
    "            ROOT::Math::PtEtaPhiMVector Hadron = ROOT::Math::PtEtaPhiMVector(PartPt[idx], PartEta[idx], PartPhi[idx], PartM[idx]);\n",
    "            HadronVector.push_back(Hadron);\n",
    "        }\n",
    "    }\n",
    "    return HadronVector;\n",
    "}\n",
    "\n",
    "\"\"\"\n",
    "\n",
    "ROOT.gInterpreter.Declare(FindBHadron)"
   ]
  },
  {
   "cell_type": "code",
   "execution_count": 10,
   "id": "f598c130",
   "metadata": {},
   "outputs": [],
   "source": [
    "# Make 4 vector for gen jets from bottom quarks and b-hadrons\n",
    "df= (df.Define(\"GenJet4Vector\", \"Make4Vector(GenJet_pt, GenJet_eta, GenJet_phi, GenJet_mass)\")\n",
    "      .Define(\"BHadron\", \"FindBHadron(GenPart_pdgId, GenPart_pt, GenPart_eta, GenPart_phi, GenPart_mass)\")\n",
    "      .Define(\"bGenJet4Vector\", \"FilterFlavour(GenJet4Vector, GenJet_partonFlavour, 5)\"))"
   ]
  },
  {
   "cell_type": "code",
   "execution_count": 11,
   "id": "199033e1",
   "metadata": {},
   "outputs": [
    {
     "data": {
      "text/plain": [
       "True"
      ]
     },
     "execution_count": 11,
     "metadata": {},
     "output_type": "execute_result"
    }
   ],
   "source": [
    "# Function to compute response\n",
    "compute_R = \"\"\"\n",
    "ROOT::RVec<float> ComputeR(\n",
    "ROOT::RVec<ROOT::Math::PtEtaPhiMVector> gen, \n",
    "ROOT::RVec<ROOT::Math::PtEtaPhiMVector> reco){\n",
    "    \n",
    "    ROOT::RVec<float> JESVector;\n",
    "    \n",
    "    for (int idx = 0; idx < gen.size(); idx++){\n",
    "        float CandPt = reco[idx].Pt();\n",
    "        float GenCandPt = gen[idx].Pt();\n",
    "        if (CandPt > 0 || GenCandPt > 0){\n",
    "            JESVector.push_back(CandPt / GenCandPt);\n",
    "        }\n",
    "    }\n",
    "    return JESVector;\n",
    "}\n",
    "\"\"\"\n",
    "\n",
    "ROOT.gInterpreter.Declare(compute_R)"
   ]
  },
  {
   "cell_type": "code",
   "execution_count": 12,
   "id": "f3e61fd2",
   "metadata": {},
   "outputs": [],
   "source": [
    "# Arrange BHadrons to correspond nearest jet from it and compute fragmentation\n",
    "df = (df.Redefine(\"BHadron\", \"JetMatch(bGenJet4Vector, BHadron)\")\n",
    "        .Define(\"xB\", \"ComputeR(bGenJet4Vector, BHadron)\" ))"
   ]
  },
  {
   "cell_type": "code",
   "execution_count": 13,
   "id": "069cab5f",
   "metadata": {},
   "outputs": [
    {
     "name": "stderr",
     "output_type": "stream",
     "text": [
      "/var/folders/s6/9r2gng9n28jfv8k1p2d_82rr0000gn/T/ipykernel_67770/1088800265.py:40: UserWarning: No artists with labels found to put in legend.  Note that artists whose label start with an underscore are ignored when legend() is called with no argument.\n",
      "  ax.legend()\n"
     ]
    },
    {
     "data": {
      "image/png": "[encoded data removed]",
      "text/plain": [
       "<Figure size 800x600 with 1 Axes>"
      ]
     },
     "metadata": {},
     "output_type": "display_data"
    }
   ],
   "source": [
    "# Plot fragmentation with 20 bins\n",
    "had_hist = df.Histo1D((\"x(B)\", \"Hadron response x(B) = pt(B)/pt(bjet);Response;N;\", 20, 0,1), \"xB\")\n",
    "\n",
    "hep.style.use(\"CMS\")\n",
    "\n",
    "# Extract ROOT.TH1\n",
    "hist = had_hist.GetValue()\n",
    "n_bins = hist.GetNbinsX()\n",
    "\n",
    "# Bin values\n",
    "counts = np.array([hist.GetBinContent(i+1) for i in range(n_bins)])\n",
    "edges  = np.array([hist.GetBinLowEdge(i+1) for i in range(n_bins)] + [hist.GetBinLowEdge(n_bins+1)])\n",
    "bin_centers = np.array([hist.GetBinCenter(i+1) for i in range(n_bins)])\n",
    "bin_widths  = np.array([hist.GetBinWidth(i+1) for i in range(n_bins)])\n",
    "\n",
    "# Total number of entries\n",
    "N_total = hist.Integral()\n",
    "\n",
    "# Normalized bin heights (1/N * dN/dR)\n",
    "counts_norm = counts / (N_total * bin_widths)\n",
    "\n",
    "# Statistical errors (normalized)\n",
    "errors = np.sqrt(counts) / (N_total * bin_widths)\n",
    "\n",
    "# CMS green color\n",
    "cms_green = \"#00923f\"\n",
    "\n",
    "# Plot with error bars\n",
    "fig, ax = plt.subplots(figsize=(8,6))\n",
    "\n",
    "ax.errorbar(\n",
    "    bin_centers, counts_norm,\n",
    "    xerr=bin_widths, yerr=errors,\n",
    "    fmt='o', color=cms_green, markersize=4,  # smaller dots + CMS green\n",
    ")\n",
    "\n",
    "ax.set_xlabel(r\"$x_B = p_T(B)/p_T(jet)$\", fontsize=14)\n",
    "ax.set_ylabel(r\"$1/N \\; \\frac{dN}{dR}$\", fontsize=14)\n",
    "\n",
    "ax.legend()\n",
    "plt.tight_layout()\n",
    "plt.show()\n"
   ]
  },
  {
   "cell_type": "code",
   "execution_count": 14,
   "id": "03b3c1aa",
   "metadata": {},
   "outputs": [
    {
     "data": {
      "image/png": "[encoded data removed]",
      "text/plain": [
       "<Figure size 800x600 with 1 Axes>"
      ]
     },
     "metadata": {},
     "output_type": "display_data"
    }
   ],
   "source": [
    "# Plot fragmentation with 40 bins\n",
    "had_hist = df.Histo1D((\"x(B)\", \"Hadron response x(B) = pt(B)/pt(bjet);Response;N;\", 40, 0,1), \"xB\")\n",
    "\n",
    "hep.style.use(\"CMS\")\n",
    "\n",
    "# Extract ROOT.TH1\n",
    "hist = had_hist.GetValue()\n",
    "n_bins = hist.GetNbinsX()\n",
    "\n",
    "# Bin values\n",
    "counts = np.array([hist.GetBinContent(i+1) for i in range(n_bins)])\n",
    "edges  = np.array([hist.GetBinLowEdge(i+1) for i in range(n_bins)] + [hist.GetBinLowEdge(n_bins+1)])\n",
    "bin_centers = np.array([hist.GetBinCenter(i+1) for i in range(n_bins)])\n",
    "bin_widths  = np.array([hist.GetBinWidth(i+1) for i in range(n_bins)])\n",
    "\n",
    "# Total number of entries\n",
    "N_total = hist.Integral()\n",
    "\n",
    "# Normalized bin heights (1/N * dN/dR)\n",
    "counts_norm = counts / (N_total * bin_widths)\n",
    "\n",
    "# Statistical errors (normalized)\n",
    "errors = np.sqrt(counts) / (N_total * bin_widths)\n",
    "\n",
    "# Plot with error bars\n",
    "fig, ax = plt.subplots(figsize=(8,6))\n",
    "\n",
    "ax.errorbar(\n",
    "    bin_centers, counts_norm, xerr=bin_widths, yerr=errors,\n",
    "    fmt='o', color=\"C0\", label=\"Response distribution\"\n",
    ")\n",
    "\n",
    "ax.set_xlabel(r\"$R = p_{T}^{\\mathrm{reco}} / p_{T}^{\\mathrm{gen}}$\", fontsize=14)\n",
    "ax.set_ylabel(r\"$1/N \\; \\frac{dN}{dR}$\", fontsize=14)\n",
    "\n",
    "ax.legend()\n",
    "plt.tight_layout()\n",
    "plt.show()\n"
   ]
  }
 ],
 "metadata": {
  "kernelspec": {
   "display_name": "hep",
   "language": "python",
   "name": "python3"
  },
  "language_info": {
   "codemirror_mode": {
    "name": "ipython",
    "version": 3
   },
   "file_extension": ".py",
   "mimetype": "text/x-python",
   "name": "python",
   "nbconvert_exporter": "python",
   "pygments_lexer": "ipython3",
   "version": "3.13.3"
  }
 },
 "nbformat": 4,
 "nbformat_minor": 5
}
