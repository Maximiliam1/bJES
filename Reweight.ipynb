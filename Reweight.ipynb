{
 "cells": [
  {
   "cell_type": "code",
   "execution_count": 1,
   "id": "574d1c47",
   "metadata": {},
   "outputs": [],
   "source": [
    "import ROOT\n",
    "import numpy as np\n",
    "import pandas as pd\n",
    "import matplotlib.pyplot as plt\n",
    "import mplhep as hep"
   ]
  },
  {
   "cell_type": "code",
   "execution_count": 2,
   "id": "454d57dc",
   "metadata": {},
   "outputs": [],
   "source": [
    "%%script false --no raise error\n",
    "# Read files\n",
    "with open(\"ttbar_file_complete.txt\", \"r\") as f:\n",
    "    files = [line.strip() for line in f if line.strip()]\n",
    "    \n",
    "    \n",
    "tree_name = \"Events\"\n",
    "df = ROOT.RDataFrame(tree_name, files)\n",
    "print(\"Total entries:\", df.Count().GetValue())"
   ]
  },
  {
   "cell_type": "code",
   "execution_count": 3,
   "id": "66827bea",
   "metadata": {},
   "outputs": [
    {
     "name": "stderr",
     "output_type": "stream",
     "text": [
      "Warning in <TClass::Init>: no dictionary for class edm::Hash<1> is available\n",
      "Warning in <TClass::Init>: no dictionary for class edm::ProcessHistory is available\n",
      "Warning in <TClass::Init>: no dictionary for class edm::ProcessConfiguration is available\n",
      "Warning in <TClass::Init>: no dictionary for class edm::ParameterSetBlob is available\n",
      "Warning in <TClass::Init>: no dictionary for class pair<edm::Hash<1>,edm::ParameterSetBlob> is available\n"
     ]
    }
   ],
   "source": [
    "file = 'ttbar.root'\n",
    "df = ROOT.RDataFrame(\"Events\", file)"
   ]
  },
  {
   "cell_type": "markdown",
   "id": "19d5b024",
   "metadata": {},
   "source": [
    "JEC"
   ]
  },
  {
   "cell_type": "code",
   "execution_count": 4,
   "id": "e0437e7b",
   "metadata": {},
   "outputs": [
    {
     "data": {
      "text/plain": [
       "True"
      ]
     },
     "execution_count": 4,
     "metadata": {},
     "output_type": "execute_result"
    }
   ],
   "source": [
    "# Import correction files and a function to extract from the file\n",
    "import correctionlib\n",
    "correctionlib.register_pyroot_binding()\n",
    "\n",
    "correction_file = \"jet_jerc.json.gz\"\n",
    "correction = \"Summer24Prompt24_V1_MC_L2Relative_AK4PFPuppi\"\n",
    "\n",
    "correction_variables = f\"\"\"\n",
    "#include <iostream>\n",
    "#include \"correction.h\"\n",
    "auto cset = correction::CorrectionSet::from_file(\"{correction_file}\");\n",
    "auto evaluator = cset->at(\"{correction}\");\n",
    "\"\"\"\n",
    "\n",
    "ROOT.gInterpreter.Declare(correction_variables)"
   ]
  },
  {
   "cell_type": "code",
   "execution_count": 5,
   "id": "f7994591",
   "metadata": {},
   "outputs": [
    {
     "data": {
      "text/plain": [
       "True"
      ]
     },
     "execution_count": 5,
     "metadata": {},
     "output_type": "execute_result"
    }
   ],
   "source": [
    "# Function to apply JEC\n",
    "correction_call = \"\"\"\n",
    "ROOT::VecOps::RVec<float> getCorrection(ROOT::VecOps::RVec<float> Jet_eta, ROOT::VecOps::RVec<float> Jet_phi, ROOT::VecOps::RVec<float> Jet_pt) {\n",
    "    ROOT::VecOps::RVec<float> JECs;\n",
    "    for (int i = 0; i < Jet_pt.size(); i++) {\n",
    "        JECs.push_back(evaluator->evaluate({Jet_eta[i], Jet_phi[i], Jet_pt[i]}));\n",
    "    }\n",
    "    JECs = 1.0 - 1.0/JECs;\n",
    "    return JECs;\n",
    "}\n",
    "\"\"\"\n",
    "\n",
    "ROOT.gInterpreter.Declare(correction_call)"
   ]
  },
  {
   "cell_type": "code",
   "execution_count": 6,
   "id": "f331c2ea",
   "metadata": {},
   "outputs": [],
   "source": [
    "# Remove NanoAOD JEC and apply from correctionlib\n",
    "df = (df.Define(\"Jet_rawpt\", \"(1.0 - Jet_rawFactor) * Jet_pt\")\n",
    "        .Define(\"Jet_clibFactor\", \"getCorrection(Jet_eta, Jet_phi, Jet_rawpt)\")\n",
    "        .Redefine(\"Jet_pt\", \" 1.0 / (1.0 - Jet_clibFactor) * Jet_rawpt\")\n",
    "     )"
   ]
  },
  {
   "cell_type": "markdown",
   "id": "cb29ded8",
   "metadata": {},
   "source": [
    "Reweighting"
   ]
  },
  {
   "cell_type": "code",
   "execution_count": 7,
   "id": "e7ce5f6f",
   "metadata": {},
   "outputs": [],
   "source": [
    "# Apply corrections for FSR\n",
    "df = (df.Define(\"w_FSR_up\",    \"genWeight *  PSWeight[1]\")\n",
    "        .Define(\"w_FSR_down\",  \"genWeight *  PSWeight[3]\"))"
   ]
  },
  {
   "cell_type": "code",
   "execution_count": 8,
   "id": "de0f481b",
   "metadata": {},
   "outputs": [],
   "source": [
    "# Changed so that the keys are not needed, but here a list of saved values\n",
    "# Names to rename extracted values without r-strings\n",
    "semileptonic_keys = [r'$b \\rightarrow \\mu / e$', \n",
    "                     r'$b \\rightarrow \\tau \\rightarrow \\mu / e$',\n",
    "                     r'$b \\rightarrow c \\rightarrow \\mu / e$',\n",
    "                     r'$b \\rightarrow \\bar{c} \\rightarrow \\mu / e$',\n",
    "                     'Non Semileptonic',\n",
    "                     'Intervals']\n",
    "\n",
    "semileptonic_individual_keys = [r'$B^0 \\rightarrow \\mu / e$',\n",
    "                                r'$B^\\pm \\rightarrow \\mu / e$',\n",
    "                                r'$B^0_s \\rightarrow \\mu / e$',\n",
    "                                r'$\\Lambda^0_s \\rightarrow \\mu / e$',\n",
    "                                r'$B^0 \\rightarrow \\mu / e$'+ '_non_sl',\n",
    "                                r'$B^\\pm \\rightarrow \\mu / e$'+ '_non_sl',\n",
    "                                r'$B^0_s \\rightarrow \\mu / e$'+ '_non_sl',\n",
    "                                r'$\\Lambda^0_s \\rightarrow \\mu / e$'+ '_non_sl',\n",
    "                                'Intervals']\n",
    "\n",
    "\n",
    "inclusive_decay_keys = [r'$B^0 \\rightarrow D^0 / \\bar{D}^0$',\n",
    "                        r'$B^0 \\rightarrow D^+ / D^-$',\n",
    "                        r'$B^0 \\rightarrow D^+_s / D^-_s$',\n",
    "                        'OtherB0'\n",
    "                        r'$B^+ \\rightarrow D^0 / \\bar{D}^0$',\n",
    "                        r'$B^+ \\rightarrow D^+ / D^-$',\n",
    "                        r'$B^+ \\rightarrow D^+_s / D^-_s$',\n",
    "                        'OtherBp',\n",
    "                        r'$B^0_s \\rightarrow D^-_s$',\n",
    "                        'Intervals']\n",
    "\n",
    "\n",
    "production_fraction_keys = [r'$c_{0,s}$',\n",
    "                             r'$c_{0s,m}$',\n",
    "                             r'$c_{\\Lambda_b,b}$',\n",
    "                             'Intervals']\n",
    "\n",
    "\n",
    "# Rename for the root environment without r strings\n",
    "# names = [\"sl_direct\", \"sl_tau\", \"sl_charm\", \"sl_anticharm\", 'NonSemileptonic', \n",
    "#          \"B0\", \"Bp\", \"Bs\", \"Lb\", \"B0H\", \"BpH\", \"BsH\", \"LbH\", \n",
    "#          \"B0Ds\", \"B0D0\", \"B0Dp\", \"OtherB0\",\n",
    "#          \"BpDs\", \"BpD0\", \"BpDp\", \"OtherBp\",\n",
    "#          \"BsDs\", \"OtherBs\",\n",
    "#          'c0s', 'c0sm', 'cLbb', 'Intervals']\n",
    "\n",
    "names = [\"sl_direct\", \"sl_tau\", \"sl_charm\", \"sl_anticharm\", 'NonSemileptonic', 'Intervals',\n",
    "         \"B0\", \"Bp\", \"Bs\", \"Lb\", \"B0H\", \"BpH\", \"BsH\", \"LbH\", \n",
    "         \"B0Dp\", \"B0D0\", \"B0Ds\", \"OtherB0\",\n",
    "         \"BpDp\", \"BpD0\", \"BpDs\", \"OtherBp\",\n",
    "         \"BsDs\", \"OtherBs\"]\n",
    "\n",
    "names_variations = [\"sl_direct\", \"sl_tau\", \"sl_charm\", \"sl_anticharm\", 'NonSemileptonic',\n",
    "         \"B0\", \"Bp\", \"Bs\", \"Lb\", \"B0H\", \"BpH\", \"BsH\", \"LbH\", \n",
    "         \"B0Dp\", \"B0D0\", \"B0Ds\", \"OtherB0\",\n",
    "         \"BpDp\", \"BpD0\", \"BpDs\", \"OtherBp\",\n",
    "         \"BsDs\", \"OtherBs\"]\n",
    "\n",
    "\n"
   ]
  },
  {
   "cell_type": "code",
   "execution_count": 9,
   "id": "15c03c08",
   "metadata": {},
   "outputs": [
    {
     "name": "stdout",
     "output_type": "stream",
     "text": [
      "['$b \\\\rightarrow \\\\mu / e$', '$b \\\\rightarrow \\\\tau \\\\rightarrow \\\\mu / e$', '$b \\\\rightarrow c \\\\rightarrow \\\\mu / e$', '$b \\\\rightarrow \\\\bar{c} \\\\rightarrow \\\\mu / e$', 'Non semileptonic', 'Intervals', '$B^0 \\\\rightarrow \\\\mu / e$', '$B^\\\\pm \\\\rightarrow \\\\mu / e$', '$B^0_s \\\\rightarrow \\\\mu / e$', '$\\\\Lambda^0_s \\\\rightarrow \\\\mu / e$', '$B^0 \\\\rightarrow \\\\mu / e$_non_sl', '$B^\\\\pm \\\\rightarrow \\\\mu / e$_non_sl', '$B^0_s \\\\rightarrow \\\\mu / e$_non_sl', '$\\\\Lambda^0_s \\\\rightarrow \\\\mu / e$_non_sl', '$B^0 \\\\rightarrow D^+ / D^-$', '$B^0 \\\\rightarrow D^0 / \\\\bar{D}^0$', '$B^0 \\\\rightarrow D^+_s / D^-_s$', 'Other B0_', '$B^+ \\\\rightarrow D^+ / D^-$', '$B^+ \\\\rightarrow D^0 / \\\\bar{D}^0$', '$B^+ \\\\rightarrow D^+_s / D^-_s$', 'Other Bp']\n"
     ]
    }
   ],
   "source": [
    "# Collect values for scaling factors from the text file\n",
    "restored_values = {}\n",
    "with open('scaling_factors.txt', 'r') as f:\n",
    "    for line in f:\n",
    "        key, vals = line.strip().split(':')\n",
    "        restored_values[key] = list(map(float, vals.split(',')))\n",
    "\n",
    "print(list(restored_values.keys()))             # Should correspond to manually added keys"
   ]
  },
  {
   "cell_type": "code",
   "execution_count": 10,
   "id": "27750820",
   "metadata": {},
   "outputs": [
    {
     "ename": "ValueError",
     "evalue": "not enough values to unpack (expected 2, got 1)",
     "output_type": "error",
     "traceback": [
      "\u001b[31m---------------------------------------------------------------------------\u001b[39m",
      "\u001b[31mValueError\u001b[39m                                Traceback (most recent call last)",
      "\u001b[36mCell\u001b[39m\u001b[36m \u001b[39m\u001b[32mIn[10]\u001b[39m\u001b[32m, line 5\u001b[39m\n\u001b[32m      3\u001b[39m \u001b[38;5;28;01mwith\u001b[39;00m \u001b[38;5;28mopen\u001b[39m(\u001b[33m'\u001b[39m\u001b[33mscaling_factor_errors.txt\u001b[39m\u001b[33m'\u001b[39m, \u001b[33m'\u001b[39m\u001b[33mr\u001b[39m\u001b[33m'\u001b[39m) \u001b[38;5;28;01mas\u001b[39;00m f:\n\u001b[32m      4\u001b[39m     \u001b[38;5;28;01mfor\u001b[39;00m line \u001b[38;5;129;01min\u001b[39;00m f:\n\u001b[32m----> \u001b[39m\u001b[32m5\u001b[39m         key, vals = line.strip().split(\u001b[33m'\u001b[39m\u001b[33m:\u001b[39m\u001b[33m'\u001b[39m)\n\u001b[32m      6\u001b[39m         restored_values_errors[key] = \u001b[38;5;28mlist\u001b[39m(\u001b[38;5;28mmap\u001b[39m(\u001b[38;5;28mfloat\u001b[39m, vals.split(\u001b[33m'\u001b[39m\u001b[33m,\u001b[39m\u001b[33m'\u001b[39m)))\n\u001b[32m      8\u001b[39m \u001b[38;5;28mprint\u001b[39m(\u001b[38;5;28mlist\u001b[39m(restored_values_errors.keys()))             \u001b[38;5;66;03m# Should correspond to manually added keys\u001b[39;00m\n",
      "\u001b[31mValueError\u001b[39m: not enough values to unpack (expected 2, got 1)"
     ]
    }
   ],
   "source": [
    "# Collect values for scaling factor errors from the text file\n",
    "restored_values_errors = {}\n",
    "with open('scaling_factor_errors.txt', 'r') as f:\n",
    "    for line in f:\n",
    "        key, vals = line.strip().split(':')\n",
    "        restored_values_errors[key] = list(map(float, vals.split(',')))\n",
    "\n",
    "print(list(restored_values_errors.keys()))             # Should correspond to manually added keys"
   ]
  },
  {
   "cell_type": "code",
   "execution_count": null,
   "id": "6aedae39",
   "metadata": {},
   "outputs": [],
   "source": [
    "# Separate up and down variation\n",
    "restored_values_up = {k: v for k, v in restored_values_errors.items() if k.endswith(\"_up\")}\n",
    "restored_values_down = {k: v for k, v in restored_values_errors.items() if k.endswith(\"_down\")}"
   ]
  },
  {
   "cell_type": "code",
   "execution_count": null,
   "id": "1b580b9f",
   "metadata": {},
   "outputs": [],
   "source": [
    "# I don't trust the strange fractions, hence leave unchanged before more reasonable result\n",
    "n = len(restored_values[\"Intervals\"])\n",
    "restored_values['$B^0_s \\\\rightarrow D^-_s$'] = np.ones(n)\n",
    "restored_values['$B^0_s \\\\rightarrow D^-_s$_non_sl'] = np.ones(n)"
   ]
  },
  {
   "cell_type": "code",
   "execution_count": null,
   "id": "1539f660",
   "metadata": {},
   "outputs": [
    {
     "data": {
      "text/plain": [
       "True"
      ]
     },
     "execution_count": 13,
     "metadata": {},
     "output_type": "execute_result"
    }
   ],
   "source": [
    "# Loop through values and declare\n",
    "for ii, values in enumerate(restored_values.values()):\n",
    "    # Convert Python list to C++ initializer list string\n",
    "    values_str = \", \".join(map(str, values))\n",
    "    \n",
    "    # Declare an RVec in ROOT using C++ syntax\n",
    "    ROOT.gInterpreter.Declare(f\"ROOT::RVec<float> {names[ii]} = {{ {values_str} }};\")\n",
    "\n",
    "# Create a vector of vectors with weights for different studies\n",
    "ROOT.gInterpreter.Declare(\"ROOT::RVec<ROOT::RVec<float>> SemileptonicWeights = {sl_direct, sl_tau, sl_charm, sl_anticharm, NonSemileptonic};\")\n",
    "ROOT.gInterpreter.Declare(\"ROOT::RVec<ROOT::RVec<float>> IndividualWeights = {B0, Bp, Bs, Lb, B0H, BpH, BsH, LbH};\")\n",
    "ROOT.gInterpreter.Declare(\"ROOT::RVec<ROOT::RVec<float>> InclusiveUncharged = {B0Ds, B0D0, B0Dp, OtherB0};\")\n",
    "ROOT.gInterpreter.Declare(\"ROOT::RVec<ROOT::RVec<float>> InclusiveCharged = {BpDs, BpD0, BpDp, OtherBp};\")\n",
    "ROOT.gInterpreter.Declare(\"ROOT::RVec<ROOT::RVec<float>> InclusiveStrange = {BsDs, OtherBs};\")\n",
    "#ROOT.gInterpreter.Declare(\"ROOT::RVec<ROOT::RVec<float>> FractionWeights = {c0s, c0sm, cLbb};\")"
   ]
  },
  {
   "cell_type": "code",
   "execution_count": null,
   "id": "c4d36b6e",
   "metadata": {},
   "outputs": [
    {
     "ename": "IndexError",
     "evalue": "list index out of range",
     "output_type": "error",
     "traceback": [
      "\u001b[31m---------------------------------------------------------------------------\u001b[39m",
      "\u001b[31mIndexError\u001b[39m                                Traceback (most recent call last)",
      "\u001b[36mCell\u001b[39m\u001b[36m \u001b[39m\u001b[32mIn[14]\u001b[39m\u001b[32m, line 7\u001b[39m\n\u001b[32m      4\u001b[39m     values_str = \u001b[33m\"\u001b[39m\u001b[33m, \u001b[39m\u001b[33m\"\u001b[39m.join(\u001b[38;5;28mmap\u001b[39m(\u001b[38;5;28mstr\u001b[39m, values))\n\u001b[32m      6\u001b[39m     \u001b[38;5;66;03m# Declare an RVec in ROOT using C++ syntax\u001b[39;00m\n\u001b[32m----> \u001b[39m\u001b[32m7\u001b[39m     ROOT.gInterpreter.Declare(\u001b[33mf\u001b[39m\u001b[33m\"\u001b[39m\u001b[33mROOT::RVec<float> \u001b[39m\u001b[38;5;132;01m{\u001b[39;00m\u001b[43mnames_variations\u001b[49m\u001b[43m[\u001b[49m\u001b[43mii\u001b[49m\u001b[43m]\u001b[49m+\u001b[33m\"\u001b[39m\u001b[33m_up\u001b[39m\u001b[33m\"\u001b[39m\u001b[38;5;132;01m}\u001b[39;00m\u001b[33m = \u001b[39m\u001b[38;5;130;01m{{\u001b[39;00m\u001b[33m \u001b[39m\u001b[38;5;132;01m{\u001b[39;00mvalues_str\u001b[38;5;132;01m}\u001b[39;00m\u001b[33m \u001b[39m\u001b[38;5;130;01m}}\u001b[39;00m\u001b[33m;\u001b[39m\u001b[33m\"\u001b[39m)\n\u001b[32m      9\u001b[39m ROOT.gInterpreter.Declare(\u001b[33m\"\u001b[39m\u001b[33mROOT::RVec<ROOT::RVec<float>> SemileptonicWeights_up = \u001b[39m\u001b[33m{\u001b[39m\u001b[33msl_direct_up, sl_tau_up, sl_charm_up, sl_anticharm_up, NonSemileptonic_up};\u001b[39m\u001b[33m\"\u001b[39m)\n\u001b[32m     10\u001b[39m ROOT.gInterpreter.Declare(\u001b[33m\"\u001b[39m\u001b[33mROOT::RVec<ROOT::RVec<float>> IndividualWeights_up = \u001b[39m\u001b[33m{\u001b[39m\u001b[33mB0_up, Bp_up, Bs_up, Lb_up, B0H_up, BpH_up, BsH_up, LbH_up};\u001b[39m\u001b[33m\"\u001b[39m)\n",
      "\u001b[31mIndexError\u001b[39m: list index out of range"
     ]
    },
    {
     "name": "stderr",
     "output_type": "stream",
     "text": [
      "input_line_120:1:437: error: use of undeclared identifier 'inf'\n",
      "ROOT::RVec<float> sl_direct_up = { 0.1127, 3.381, 1.122492, 1.0191162393162392, 1.080714652406417, 1.1020371335504886, 1.0382713848508034, 0.9997580645161289, 1.0960461922596754, 1.0435382075471697, 1.0222809012875536, 1.1099681672025723, 1.0574933920704845, 1.0903552147239264, 0.918806106870229, 1.1949287671232875, 1.0378492537313433, 1.2522222222222221, 1.244208, 1.0200794871794872, 0.873425, 1.436925, 1.4650999999999998, 0.4508, inf };\n",
      "                                                                                                                                                                                                                                                                                                                                                                                                                                                    ^\n",
      "input_line_121:1:33: error: use of undeclared identifier 'inf'\n",
      "ROOT::RVec<float> sl_tau_up = { inf, 0.8275800000000001, 0.9932980952380953, 0.9369928270042195, 0.8998443289224952, 0.9336011152416356, 0.9305594117647059, 0.9683745115452931, 0.9103988962472407, 1.004538424437299, 1.0121224719101125, 0.9272217391304347, 0.9256775423728814, 0.9858458333333333, 1.02784375, 0.9984282051282051, 0.9786537313432836, 0.8916914893617022, 0.8923282051282052, 0.8942714285714285, 0.9034575757575758, 1.53845, 0.5305, -0.2122, nan };\n",
      "                                ^\n",
      "input_line_122:1:35: error: use of undeclared identifier 'inf'\n",
      "ROOT::RVec<float> sl_charm_up = { inf, 0.41600000000000004, 1.1868235294117648, 1.1048470588235295, 1.3221866666666668, 1.2268235294117649, 1.1278995815899584, 1.0992897196261682, 1.1760000000000002, 1.0653858267716536, 1.0931304347826087, 1.216271186440678, 1.2266666666666668, 1.3304827586206898, 1.2007272727272729, 0.9937777777777778, 1.0608000000000002, 0.7760000000000001, 0.7164444444444444, 1.3433333333333335, 1.1266666666666667, 0.8320000000000001, 0.41600000000000004, inf, -inf };\n",
      "                                  ^\n",
      "input_line_122:1:481: error: use of undeclared identifier 'inf'\n",
      "ROOT::RVec<float> sl_charm_up = { inf, 0.41600000000000004, 1.1868235294117648, 1.1048470588235295, 1.3221866666666668, 1.2268235294117649, 1.1278995815899584, 1.0992897196261682, 1.1760000000000002, 1.0653858267716536, 1.0931304347826087, 1.216271186440678, 1.2266666666666668, 1.3304827586206898, 1.2007272727272729, 0.9937777777777778, 1.0608000000000002, 0.7760000000000001, 0.7164444444444444, 1.3433333333333335, 1.1266666666666667, 0.8320000000000001, 0.41600000000000004, inf, -inf };\n",
      "                                                                                                                                                                                                                                                                                                                                                                                                                                                                                                ^\n",
      "input_line_122:1:487: error: use of undeclared identifier 'inf'\n",
      "ROOT::RVec<float> sl_charm_up = { inf, 0.41600000000000004, 1.1868235294117648, 1.1048470588235295, 1.3221866666666668, 1.2268235294117649, 1.1278995815899584, 1.0992897196261682, 1.1760000000000002, 1.0653858267716536, 1.0931304347826087, 1.216271186440678, 1.2266666666666668, 1.3304827586206898, 1.2007272727272729, 0.9937777777777778, 1.0608000000000002, 0.7760000000000001, 0.7164444444444444, 1.3433333333333335, 1.1266666666666667, 0.8320000000000001, 0.41600000000000004, inf, -inf };\n",
      "                                                                                                                                                                                                                                                                                                                                                                                                                                                                                                      ^\n",
      "input_line_123:1:330: error: use of undeclared identifier 'inf'\n",
      "ROOT::RVec<float> sl_anticharm_up = { nan, nan, 2.882, 2.8674444444444447, 2.1895714285714285, 2.1542222222222223, 1.7163673469387757, 2.2188125000000003, 1.8807857142857143, 1.4541000000000002, 1.7167894736842104, 1.7231538461538463, 4.759666666666667, 1.812166666666667, 1.8864, 1.3362, 1.8776666666666668, 3.0130000000000003, inf, inf, 0.9825, 0.786, inf, nan, nan };\n",
      "                                                                                                                                                                                                                                                                                                                                         ^\n",
      "input_line_123:1:335: error: use of undeclared identifier 'inf'\n",
      "ROOT::RVec<float> sl_anticharm_up = { nan, nan, 2.882, 2.8674444444444447, 2.1895714285714285, 2.1542222222222223, 1.7163673469387757, 2.2188125000000003, 1.8807857142857143, 1.4541000000000002, 1.7167894736842104, 1.7231538461538463, 4.759666666666667, 1.812166666666667, 1.8864, 1.3362, 1.8776666666666668, 3.0130000000000003, inf, inf, 0.9825, 0.786, inf, nan, nan };\n",
      "                                                                                                                                                                                                                                                                                                                                              ^\n",
      "input_line_123:1:355: error: use of undeclared identifier 'inf'\n",
      "ROOT::RVec<float> sl_anticharm_up = { nan, nan, 2.882, 2.8674444444444447, 2.1895714285714285, 2.1542222222222223, 1.7163673469387757, 2.2188125000000003, 1.8807857142857143, 1.4541000000000002, 1.7167894736842104, 1.7231538461538463, 4.759666666666667, 1.812166666666667, 1.8864, 1.3362, 1.8776666666666668, 3.0130000000000003, inf, inf, 0.9825, 0.786, inf, nan, nan };\n",
      "                                                                                                                                                                                                                                                                                                                                                                  ^\n",
      "input_line_130:1:30: error: use of undeclared identifier 'inf'\n",
      "ROOT::RVec<float> BpH_up = { inf, 2.6666666666666665, 2.255813953488372, 2.3454545454545457, 2.3927227101631114, 2.29287598944591, 2.360655737704918, 2.3081632653061224, 2.3902439024390243, 2.282456140350877, 2.2229885057471264, 2.323232323232323, 2.119815668202765, 2.2901234567901234, 1.984375, 2.023529411764706, 2.756756756756757, 2.3095238095238093, 1.722222222222222, 2.2142857142857144, 2.9545454545454546, 2.2857142857142856, inf, 1.0, -inf };\n",
      "                             ^\n",
      "input_line_130:1:435: error: use of undeclared identifier 'inf'\n",
      "ROOT::RVec<float> BpH_up = { inf, 2.6666666666666665, 2.255813953488372, 2.3454545454545457, 2.3927227101631114, 2.29287598944591, 2.360655737704918, 2.3081632653061224, 2.3902439024390243, 2.282456140350877, 2.2229885057471264, 2.323232323232323, 2.119815668202765, 2.2901234567901234, 1.984375, 2.023529411764706, 2.756756756756757, 2.3095238095238093, 1.722222222222222, 2.2142857142857144, 2.9545454545454546, 2.2857142857142856, inf, 1.0, -inf };\n",
      "                                                                                                                                                                                                                                                                                                                                                                                                                                                  ^\n",
      "input_line_130:1:446: error: use of undeclared identifier 'inf'\n",
      "ROOT::RVec<float> BpH_up = { inf, 2.6666666666666665, 2.255813953488372, 2.3454545454545457, 2.3927227101631114, 2.29287598944591, 2.360655737704918, 2.3081632653061224, 2.3902439024390243, 2.282456140350877, 2.2229885057471264, 2.323232323232323, 2.119815668202765, 2.2901234567901234, 1.984375, 2.023529411764706, 2.756756756756757, 2.3095238095238093, 1.722222222222222, 2.2142857142857144, 2.9545454545454546, 2.2857142857142856, inf, 1.0, -inf };\n",
      "                                                                                                                                                                                                                                                                                                                                                                                                                                                             ^\n",
      "input_line_136:1:34: error: use of undeclared identifier 'inf'\n",
      "ROOT::RVec<float> OtherB0_up = { inf, 0.9178965517241379, 0.9863290178571429, 0.9976231668437833, 0.9906028888058771, 0.9883764749536178, 0.9953399757779019, 1.000030737704918, 0.9889922735727572, 0.9947286693318104, 0.9972393246477, 0.9875726380813954, 0.9931418812401471, 0.9895842291371993, 1.0113515474919956, 0.9797007132667618, 0.9953892727272727, 0.9750549450549449, 0.9756764940239043, 0.9975060509554139, 1.018751851851852, 0.9628148936170212, 0.9612416666666665, 1.1830666666666667, 0.8873 };\n",
      "                                 ^\n",
      "input_line_137:1:19: error: no matching constructor for initialization of 'ROOT::RVec<float>'\n",
      "ROOT::RVec<float> BpDp_up = { 0.8939, 1.0253558823529412, 1.0008014806378132, 1.0080456357758623, 1.0133878332280482, 1.0085134890371783, 1.0089363361090085, 1.0038914107747787, 1.0118198311007571, 0.9994640402506171, 0.9985803947368421, 1.0094039325842696, 1.00962155787164, 1.0017070351758794, 0.9967949640287771, 1.0001868902439024, 1.0025956442831216, 1.0146278735632184, 1.0145301038062284, 1.0142326923076923, 1.012846370967742, 0.9601148148148149, 1.117375, 0.5959333333333333, nan };\n",
      "                  ^         ~~~~~~~~~~~~~~~~~~~~~~~~~~~~~~~~~~~~~~~~~~~~~~~~~~~~~~~~~~~~~~~~~~~~~~~~~~~~~~~~~~~~~~~~~~~~~~~~~~~~~~~~~~~~~~~~~~~~~~~~~~~~~~~~~~~~~~~~~~~~~~~~~~~~~~~~~~~~~~~~~~~~~~~~~~~~~~~~~~~~~~~~~~~~~~~~~~~~~~~~~~~~~~~~~~~~~~~~~~~~~~~~~~~~~~~~~~~~~~~~~~~~~~~~~~~~~~~~~~~~~~~~~~~~~~~~~~~~~~~~~~~~~~~~~~~~~~~~~~~~~~~~~~~~~~~~~~~~~~~~~~~~~~~~~~~~~~~~~~~~~~~~~~~~~~~~~~~~~~~~~~~~~~~~~~~~~~~~~~~~~~~~~~~~~~~~~~~~~~~~~~~~~~~~~~~~~~~~~~~~~~~~~~~~~~~~~~~~~~~~~~~~~~~~~~~~~~~~~~~~~~\n",
      "/Users/runner/miniforge3/conda-bld/bld/rattler-build_root_base_1740585280/work/build-dir/include/ROOT/RVec.hxx:1544:13: note: candidate constructor not viable: requires 2 arguments, but 25 were provided\n",
      "   explicit RVec(size_t Size, const T &Value) : SuperClass(Size, Value) {}\n",
      "            ^    ~~~~~~~~~~~~~~~~~~~~~~~~~~~\n",
      "/Users/runner/miniforge3/conda-bld/bld/rattler-build_root_base_1740585280/work/build-dir/include/ROOT/RVec.hxx:1551:4: note: candidate constructor template not viable: requires 2 arguments, but 25 were provided\n",
      "   RVec(ItTy S, ItTy E) : SuperClass(S, E)\n",
      "   ^    ~~~~~~~~~~~~~~\n",
      "/Users/runner/miniforge3/conda-bld/bld/rattler-build_root_base_1740585280/work/build-dir/include/ROOT/RVec.hxx:1583:4: note: candidate constructor not viable: requires 2 arguments, but 25 were provided\n",
      "   RVec(T* p, size_t n) : SuperClass(p, n) {}\n",
      "   ^    ~~~~~~~~~~~~~~\n",
      "/Users/runner/miniforge3/conda-bld/bld/rattler-build_root_base_1740585280/work/build-dir/include/ROOT/RVec.hxx:1546:13: note: candidate constructor not viable: requires single argument 'Size', but 25 arguments were provided\n",
      "   explicit RVec(size_t Size) : SuperClass(Size) {}\n",
      "            ^    ~~~~~~~~~~~\n",
      "/Users/runner/miniforge3/conda-bld/bld/rattler-build_root_base_1740585280/work/build-dir/include/ROOT/RVec.hxx:1555:4: note: candidate constructor not viable: requires single argument 'IL', but 25 arguments were provided\n",
      "   RVec(std::initializer_list<T> IL) : SuperClass(IL) {}\n",
      "   ^    ~~~~~~~~~~~~~~~~~~~~~~~~~~~\n",
      "/Users/runner/miniforge3/conda-bld/bld/rattler-build_root_base_1740585280/work/build-dir/include/ROOT/RVec.hxx:1557:4: note: candidate constructor not viable: requires single argument 'RHS', but 25 arguments were provided\n",
      "   RVec(const RVec &RHS) : SuperClass(RHS) {}\n",
      "   ^    ~~~~~~~~~~~~~~~\n",
      "/Users/runner/miniforge3/conda-bld/bld/rattler-build_root_base_1740585280/work/build-dir/include/ROOT/RVec.hxx:1565:4: note: candidate constructor not viable: requires single argument 'RHS', but 25 arguments were provided\n",
      "   RVec(RVec &&RHS) : SuperClass(std::move(RHS)) {}\n",
      "   ^    ~~~~~~~~~~\n",
      "/Users/runner/miniforge3/conda-bld/bld/rattler-build_root_base_1740585280/work/build-dir/include/ROOT/RVec.hxx:1573:4: note: candidate constructor not viable: requires single argument 'RHS', but 25 arguments were provided\n",
      "   RVec(Detail::VecOps::RVecImpl<T> &&RHS) : SuperClass(std::move(RHS)) {}\n",
      "   ^    ~~~~~~~~~~~~~~~~~~~~~~~~~~~~~~~~~\n",
      "/Users/runner/miniforge3/conda-bld/bld/rattler-build_root_base_1740585280/work/build-dir/include/ROOT/RVec.hxx:1576:4: note: candidate constructor template not viable: requires single argument 'RHS', but 25 arguments were provided\n",
      "   RVec(RVecN<T, N> &&RHS) : SuperClass(std::move(RHS)) {}\n",
      "   ^    ~~~~~~~~~~~~~~~~~\n",
      "/Users/runner/miniforge3/conda-bld/bld/rattler-build_root_base_1740585280/work/build-dir/include/ROOT/RVec.hxx:1579:4: note: candidate constructor template not viable: requires single argument 'RHS', but 25 arguments were provided\n",
      "   RVec(const RVecN<T, N> &RHS) : SuperClass(RHS) {}\n",
      "   ^    ~~~~~~~~~~~~~~~~~~~~~~\n",
      "/Users/runner/miniforge3/conda-bld/bld/rattler-build_root_base_1740585280/work/build-dir/include/ROOT/RVec.hxx:1581:4: note: candidate constructor not viable: requires single argument 'RHS', but 25 arguments were provided\n",
      "   RVec(const std::vector<T> &RHS) : SuperClass(RHS) {}\n",
      "   ^    ~~~~~~~~~~~~~~~~~~~~~~~~~\n",
      "/Users/runner/miniforge3/conda-bld/bld/rattler-build_root_base_1740585280/work/build-dir/include/ROOT/RVec.hxx:1542:4: note: candidate constructor not viable: requires 0 arguments, but 25 were provided\n",
      "   RVec() {}\n",
      "   ^\n",
      "input_line_139:1:19: error: no matching constructor for initialization of 'ROOT::RVec<float>'\n",
      "ROOT::RVec<float> BpDs_up = { nan, nan, 0.9103809523809523, 0.9106010638297872, 0.9243, 0.9252661870503598, 0.9408060708263069, 0.9235254901960784, 0.9340588235294118, 0.955039603960396, 0.9407869565217392, 0.9404999999999999, 0.8935943396226416, 0.9367142857142857, 0.9338507462686567, 0.9634565217391304, 0.934175, 0.9085, 0.869, 0.869, 1.0026923076923075, 1.0428, 0.869, nan, nan };\n",
      "                  ^         ~~~~~~~~~~~~~~~~~~~~~~~~~~~~~~~~~~~~~~~~~~~~~~~~~~~~~~~~~~~~~~~~~~~~~~~~~~~~~~~~~~~~~~~~~~~~~~~~~~~~~~~~~~~~~~~~~~~~~~~~~~~~~~~~~~~~~~~~~~~~~~~~~~~~~~~~~~~~~~~~~~~~~~~~~~~~~~~~~~~~~~~~~~~~~~~~~~~~~~~~~~~~~~~~~~~~~~~~~~~~~~~~~~~~~~~~~~~~~~~~~~~~~~~~~~~~~~~~~~~~~~~~~~~~~~~~~~~~~~~~~~~~~~~~~~~~~~~~~~~~~~~~~~~~~~~~~~~~~~~~~~~~~~~~~~~~~~~~~~~~~~~~~~~~~~~~~~~~\n",
      "/Users/runner/miniforge3/conda-bld/bld/rattler-build_root_base_1740585280/work/build-dir/include/ROOT/RVec.hxx:1544:13: note: candidate constructor not viable: requires 2 arguments, but 25 were provided\n",
      "   explicit RVec(size_t Size, const T &Value) : SuperClass(Size, Value) {}\n",
      "            ^    ~~~~~~~~~~~~~~~~~~~~~~~~~~~\n",
      "/Users/runner/miniforge3/conda-bld/bld/rattler-build_root_base_1740585280/work/build-dir/include/ROOT/RVec.hxx:1551:4: note: candidate constructor template not viable: requires 2 arguments, but 25 were provided\n",
      "   RVec(ItTy S, ItTy E) : SuperClass(S, E)\n",
      "   ^    ~~~~~~~~~~~~~~\n",
      "/Users/runner/miniforge3/conda-bld/bld/rattler-build_root_base_1740585280/work/build-dir/include/ROOT/RVec.hxx:1583:4: note: candidate constructor not viable: requires 2 arguments, but 25 were provided\n",
      "   RVec(T* p, size_t n) : SuperClass(p, n) {}\n",
      "   ^    ~~~~~~~~~~~~~~\n",
      "/Users/runner/miniforge3/conda-bld/bld/rattler-build_root_base_1740585280/work/build-dir/include/ROOT/RVec.hxx:1546:13: note: candidate constructor not viable: requires single argument 'Size', but 25 arguments were provided\n",
      "   explicit RVec(size_t Size) : SuperClass(Size) {}\n",
      "            ^    ~~~~~~~~~~~\n",
      "/Users/runner/miniforge3/conda-bld/bld/rattler-build_root_base_1740585280/work/build-dir/include/ROOT/RVec.hxx:1555:4: note: candidate constructor not viable: requires single argument 'IL', but 25 arguments were provided\n",
      "   RVec(std::initializer_list<T> IL) : SuperClass(IL) {}\n",
      "   ^    ~~~~~~~~~~~~~~~~~~~~~~~~~~~\n",
      "/Users/runner/miniforge3/conda-bld/bld/rattler-build_root_base_1740585280/work/build-dir/include/ROOT/RVec.hxx:1557:4: note: candidate constructor not viable: requires single argument 'RHS', but 25 arguments were provided\n",
      "   RVec(const RVec &RHS) : SuperClass(RHS) {}\n",
      "   ^    ~~~~~~~~~~~~~~~\n",
      "/Users/runner/miniforge3/conda-bld/bld/rattler-build_root_base_1740585280/work/build-dir/include/ROOT/RVec.hxx:1565:4: note: candidate constructor not viable: requires single argument 'RHS', but 25 arguments were provided\n",
      "   RVec(RVec &&RHS) : SuperClass(std::move(RHS)) {}\n",
      "   ^    ~~~~~~~~~~\n",
      "/Users/runner/miniforge3/conda-bld/bld/rattler-build_root_base_1740585280/work/build-dir/include/ROOT/RVec.hxx:1573:4: note: candidate constructor not viable: requires single argument 'RHS', but 25 arguments were provided\n",
      "   RVec(Detail::VecOps::RVecImpl<T> &&RHS) : SuperClass(std::move(RHS)) {}\n",
      "   ^    ~~~~~~~~~~~~~~~~~~~~~~~~~~~~~~~~~\n",
      "/Users/runner/miniforge3/conda-bld/bld/rattler-build_root_base_1740585280/work/build-dir/include/ROOT/RVec.hxx:1576:4: note: candidate constructor template not viable: requires single argument 'RHS', but 25 arguments were provided\n",
      "   RVec(RVecN<T, N> &&RHS) : SuperClass(std::move(RHS)) {}\n",
      "   ^    ~~~~~~~~~~~~~~~~~\n",
      "/Users/runner/miniforge3/conda-bld/bld/rattler-build_root_base_1740585280/work/build-dir/include/ROOT/RVec.hxx:1579:4: note: candidate constructor template not viable: requires single argument 'RHS', but 25 arguments were provided\n",
      "   RVec(const RVecN<T, N> &RHS) : SuperClass(RHS) {}\n",
      "   ^    ~~~~~~~~~~~~~~~~~~~~~~\n",
      "/Users/runner/miniforge3/conda-bld/bld/rattler-build_root_base_1740585280/work/build-dir/include/ROOT/RVec.hxx:1581:4: note: candidate constructor not viable: requires single argument 'RHS', but 25 arguments were provided\n",
      "   RVec(const std::vector<T> &RHS) : SuperClass(RHS) {}\n",
      "   ^    ~~~~~~~~~~~~~~~~~~~~~~~~~\n",
      "/Users/runner/miniforge3/conda-bld/bld/rattler-build_root_base_1740585280/work/build-dir/include/ROOT/RVec.hxx:1542:4: note: candidate constructor not viable: requires 0 arguments, but 25 were provided\n",
      "   RVec() {}\n",
      "   ^\n",
      "input_line_140:1:19: error: no matching constructor for initialization of 'ROOT::RVec<float>'\n",
      "ROOT::RVec<float> OtherBp_up = { 0.0, 0.0, 0.0, 0.0, 0.0, 0.0, 0.0, 0.0, 0.0, 0.0, 0.0, 0.0, 0.0, 0.0, 0.0, 0.0, 0.0, 0.0, 0.0, 0.0, 0.0, 0.0, 0.0, nan, 0.0 };\n",
      "                  ^            ~~~~~~~~~~~~~~~~~~~~~~~~~~~~~~~~~~~~~~~~~~~~~~~~~~~~~~~~~~~~~~~~~~~~~~~~~~~~~~~~~~~~~~~~~~~~~~~~~~~~~~~~~~~~~~~~~~~~~~~~~~~~~~~\n",
      "/Users/runner/miniforge3/conda-bld/bld/rattler-build_root_base_1740585280/work/build-dir/include/ROOT/RVec.hxx:1544:13: note: candidate constructor not viable: requires 2 arguments, but 25 were provided\n",
      "   explicit RVec(size_t Size, const T &Value) : SuperClass(Size, Value) {}\n",
      "            ^    ~~~~~~~~~~~~~~~~~~~~~~~~~~~\n",
      "/Users/runner/miniforge3/conda-bld/bld/rattler-build_root_base_1740585280/work/build-dir/include/ROOT/RVec.hxx:1551:4: note: candidate constructor template not viable: requires 2 arguments, but 25 were provided\n",
      "   RVec(ItTy S, ItTy E) : SuperClass(S, E)\n",
      "   ^    ~~~~~~~~~~~~~~\n",
      "/Users/runner/miniforge3/conda-bld/bld/rattler-build_root_base_1740585280/work/build-dir/include/ROOT/RVec.hxx:1583:4: note: candidate constructor not viable: requires 2 arguments, but 25 were provided\n",
      "   RVec(T* p, size_t n) : SuperClass(p, n) {}\n",
      "   ^    ~~~~~~~~~~~~~~\n",
      "/Users/runner/miniforge3/conda-bld/bld/rattler-build_root_base_1740585280/work/build-dir/include/ROOT/RVec.hxx:1546:13: note: candidate constructor not viable: requires single argument 'Size', but 25 arguments were provided\n",
      "   explicit RVec(size_t Size) : SuperClass(Size) {}\n",
      "            ^    ~~~~~~~~~~~\n",
      "/Users/runner/miniforge3/conda-bld/bld/rattler-build_root_base_1740585280/work/build-dir/include/ROOT/RVec.hxx:1555:4: note: candidate constructor not viable: requires single argument 'IL', but 25 arguments were provided\n",
      "   RVec(std::initializer_list<T> IL) : SuperClass(IL) {}\n",
      "   ^    ~~~~~~~~~~~~~~~~~~~~~~~~~~~\n",
      "/Users/runner/miniforge3/conda-bld/bld/rattler-build_root_base_1740585280/work/build-dir/include/ROOT/RVec.hxx:1557:4: note: candidate constructor not viable: requires single argument 'RHS', but 25 arguments were provided\n",
      "   RVec(const RVec &RHS) : SuperClass(RHS) {}\n",
      "   ^    ~~~~~~~~~~~~~~~\n",
      "/Users/runner/miniforge3/conda-bld/bld/rattler-build_root_base_1740585280/work/build-dir/include/ROOT/RVec.hxx:1565:4: note: candidate constructor not viable: requires single argument 'RHS', but 25 arguments were provided\n",
      "   RVec(RVec &&RHS) : SuperClass(std::move(RHS)) {}\n",
      "   ^    ~~~~~~~~~~\n",
      "/Users/runner/miniforge3/conda-bld/bld/rattler-build_root_base_1740585280/work/build-dir/include/ROOT/RVec.hxx:1573:4: note: candidate constructor not viable: requires single argument 'RHS', but 25 arguments were provided\n",
      "   RVec(Detail::VecOps::RVecImpl<T> &&RHS) : SuperClass(std::move(RHS)) {}\n",
      "   ^    ~~~~~~~~~~~~~~~~~~~~~~~~~~~~~~~~~\n",
      "/Users/runner/miniforge3/conda-bld/bld/rattler-build_root_base_1740585280/work/build-dir/include/ROOT/RVec.hxx:1576:4: note: candidate constructor template not viable: requires single argument 'RHS', but 25 arguments were provided\n",
      "   RVec(RVecN<T, N> &&RHS) : SuperClass(std::move(RHS)) {}\n",
      "   ^    ~~~~~~~~~~~~~~~~~\n",
      "/Users/runner/miniforge3/conda-bld/bld/rattler-build_root_base_1740585280/work/build-dir/include/ROOT/RVec.hxx:1579:4: note: candidate constructor template not viable: requires single argument 'RHS', but 25 arguments were provided\n",
      "   RVec(const RVecN<T, N> &RHS) : SuperClass(RHS) {}\n",
      "   ^    ~~~~~~~~~~~~~~~~~~~~~~\n",
      "/Users/runner/miniforge3/conda-bld/bld/rattler-build_root_base_1740585280/work/build-dir/include/ROOT/RVec.hxx:1581:4: note: candidate constructor not viable: requires single argument 'RHS', but 25 arguments were provided\n",
      "   RVec(const std::vector<T> &RHS) : SuperClass(RHS) {}\n",
      "   ^    ~~~~~~~~~~~~~~~~~~~~~~~~~\n",
      "/Users/runner/miniforge3/conda-bld/bld/rattler-build_root_base_1740585280/work/build-dir/include/ROOT/RVec.hxx:1542:4: note: candidate constructor not viable: requires 0 arguments, but 25 were provided\n",
      "   RVec() {}\n",
      "   ^\n"
     ]
    }
   ],
   "source": [
    "# Same for upper bound\n",
    "for ii, values in enumerate(restored_values_up.values()):\n",
    "    # Convert Python list to C++ initializer list string\n",
    "    values_str = \", \".join(map(str, values))\n",
    "    \n",
    "    # Declare an RVec in ROOT using C++ syntax\n",
    "    ROOT.gInterpreter.Declare(f\"ROOT::RVec<float> {names_variations[ii]+\"_up\"} = {{ {values_str} }};\")\n",
    "\n",
    "ROOT.gInterpreter.Declare(\"ROOT::RVec<ROOT::RVec<float>> SemileptonicWeights_up = {sl_direct_up, sl_tau_up, sl_charm_up, sl_anticharm_up, NonSemileptonic_up};\")\n",
    "ROOT.gInterpreter.Declare(\"ROOT::RVec<ROOT::RVec<float>> IndividualWeights_up = {B0_up, Bp_up, Bs_up, Lb_up, B0H_up, BpH_up, BsH_up, LbH_up};\")\n",
    "ROOT.gInterpreter.Declare(\"ROOT::RVec<ROOT::RVec<float>> InclusiveUncharged_up = {B0Ds_up, B0D0_up, B0Dp_up, OtherB0_up};\")\n",
    "ROOT.gInterpreter.Declare(\"ROOT::RVec<ROOT::RVec<float>> InclusiveCharged_up = {BpDs_up, BpD0_up, BpDp_up, OtherBp_up};\")\n",
    "#ROOT.gInterpreter.Declare(\"ROOT::RVec<ROOT::RVec<float>> FractionWeights_up = {c0s_up, c0sm_up, cLbb_up};\")"
   ]
  },
  {
   "cell_type": "code",
   "execution_count": null,
   "id": "54e660e8",
   "metadata": {},
   "outputs": [
    {
     "data": {
      "text/plain": [
       "True"
      ]
     },
     "execution_count": 17,
     "metadata": {},
     "output_type": "execute_result"
    }
   ],
   "source": [
    "# Same for lower bound\n",
    "for ii, values in enumerate(restored_values_down.values()):\n",
    "    # Convert Python list to C++ initializer list string\n",
    "    values_str = \", \".join(map(str, values))\n",
    "    \n",
    "    # Declare an RVec in ROOT using C++ syntax\n",
    "    ROOT.gInterpreter.Declare(f\"ROOT::RVec<float> {names_variations[ii]+\"_down\"} = {{ {values_str} }};\")\n",
    "\n",
    "ROOT.gInterpreter.Declare(\"ROOT::RVec<ROOT::RVec<float>> SemileptonicWeights_down = {sl_direct_down, sl_tau_down, sl_charm_down, sl_anticharm_down, NonSemileptonic_down};\")\n",
    "ROOT.gInterpreter.Declare(\"ROOT::RVec<ROOT::RVec<float>> IndividualWeights_down = {B0_down, Bp_down, Bs_down, Lb_down, B0H_down, BpH_down, BsH_down, LbH_down};\")\n",
    "ROOT.gInterpreter.Declare(\"ROOT::RVec<ROOT::RVec<float>> InclusiveUncharged_down = {B0Ds_down, B0D0_down, B0Dp_down, OtherB0_down};\")\n",
    "ROOT.gInterpreter.Declare(\"ROOT::RVec<ROOT::RVec<float>> InclusiveCharged_down = {BpDs_down, BpD0_down, BpDp_down, OtherBp_down};\")\n",
    "#ROOT.gInterpreter.Declare(\"ROOT::RVec<ROOT::RVec<float>> FractionWeights_down = {c0s_down, c0sm_down, cLbb_down};\")"
   ]
  },
  {
   "cell_type": "code",
   "execution_count": null,
   "id": "f97f9878",
   "metadata": {},
   "outputs": [
    {
     "data": {
      "text/plain": [
       "True"
      ]
     },
     "execution_count": 18,
     "metadata": {},
     "output_type": "execute_result"
    }
   ],
   "source": [
    "# Function to decide the lead hadron\n",
    "LeadHadron =\"\"\"\n",
    "pair<int, float> LeadHadron(\n",
    "ROOT::RVec<int> &FlavourID, \n",
    "ROOT::RVec<float> &ParticlePt)\n",
    "{\n",
    "    int nPart = FlavourID.size();\n",
    "    int LeadId = 0;\n",
    "    float LeadPt = 0.0;\n",
    "\n",
    "    // Loop through particles\n",
    "    for (int idx = 0; idx < nPart; idx++){\n",
    "        int CandVal = FlavourID[idx];\n",
    "        float CandPt = ParticlePt[idx];\n",
    "\n",
    "        // Check if the particle is B hadron\n",
    "        if ((abs(CandVal) >= 100 ) && (CandPt > LeadPt)){\n",
    "            LeadId = CandVal;\n",
    "            LeadPt = CandPt;\n",
    "        }\n",
    "    }\n",
    "    return std::make_pair(LeadId, LeadPt);\n",
    "}\n",
    "\n",
    "\"\"\"\n",
    "\n",
    "ROOT.gInterpreter.Declare(LeadHadron)"
   ]
  },
  {
   "cell_type": "code",
   "execution_count": null,
   "id": "a1e67b88",
   "metadata": {},
   "outputs": [
    {
     "data": {
      "text/plain": [
       "True"
      ]
     },
     "execution_count": 19,
     "metadata": {},
     "output_type": "execute_result"
    }
   ],
   "source": [
    "# Helper function to find b hadrons\n",
    "find_b_hadrons = \"\"\"\n",
    "bool FindB(\n",
    "int LeadHadron_pdgId\n",
    "){\n",
    "std::vector<int> Mesons = {-511, -513, -521, -523, -531, -533};\n",
    "bool IsMeson = std::find(Mesons.begin(), Mesons.end(), LeadHadron_pdgId) != Mesons.end();\n",
    "bool IsBaryon = (LeadHadron_pdgId >= 5000 && LeadHadron_pdgId < 6000);\n",
    "bool BExists = IsMeson || IsBaryon;\n",
    "return BExists;\n",
    "}\n",
    "\"\"\"\n",
    "ROOT.gInterpreter.Declare(find_b_hadrons)"
   ]
  },
  {
   "cell_type": "code",
   "execution_count": null,
   "id": "7915e636",
   "metadata": {},
   "outputs": [],
   "source": [
    "# Define the leading hadron pdgId and pt if it includes b quark \n",
    "df = (df.Define(\"LeadHadron\", \"LeadHadron(GenPart_pdgId, GenPart_pt)\")\n",
    "        .Define(\"LeadHadron_pdgId\", \"LeadHadron.first\")\n",
    "        .Define(\"LeadHadron_pt\", \"LeadHadron.second\")\n",
    "        .Define(\"HasB\", \"FindB(LeadHadron_pdgId)\"))"
   ]
  },
  {
   "cell_type": "code",
   "execution_count": null,
   "id": "90d08078",
   "metadata": {},
   "outputs": [
    {
     "data": {
      "text/plain": [
       "True"
      ]
     },
     "execution_count": 21,
     "metadata": {},
     "output_type": "execute_result"
    }
   ],
   "source": [
    "# Loop through semileptonic decay chains returns pair of flavours within decay chain and BHadron pt for binning \n",
    "# Only computed from largest hadron\n",
    "semileptonic_decay = \"\"\"\n",
    "pair<ROOT::RVec<ROOT::RVec<int>>, pair<float, int>> SemileptonicDecay(\n",
    "ROOT::RVec<int> ParticleFlavour,\n",
    "ROOT::RVec<int> MotherIdx,\n",
    "ROOT::VecOps::RVec<UShort_t> statusFlags,\n",
    "ROOT::RVec<float> PartPt\n",
    "){\n",
    "\n",
    "int nParticles = ParticleFlavour.size();\n",
    "ROOT::RVec<ROOT::RVec<int>> ReturnVector;\n",
    "float ReturnPt = 0;\n",
    "int Return_pdgId;\n",
    "std::vector<int> Mesons = {-511, -513, -521, -523, -531, -533};\n",
    "\n",
    "\n",
    "// loop through every particle in event\n",
    "for (int ii = 0; ii < nParticles; ii++){\n",
    "    int Flavour = ParticleFlavour[ii];\n",
    "\n",
    "    // If the particle is lepton\n",
    "    if ((abs(Flavour) == 13) || (abs(Flavour) == 11)){\n",
    "\n",
    "\n",
    "        // Initialize the while loop\n",
    "        int Idx = ii;\n",
    "        bool IsMeson = false;\n",
    "        bool IsBHadron = false;\n",
    "        ROOT::RVec<int> CandVector;\n",
    "        CandVector.push_back(Flavour);\n",
    "        bool FromHardProcess = (statusFlags[Idx] >> 8) & 1;\n",
    "\n",
    "        int Mother = MotherIdx[Idx];\n",
    "        int MotherFlavour = ParticleFlavour[Mother];\n",
    "        bool MotherIsMeson = std::find(Mesons.begin(), Mesons.end(), MotherFlavour) != Mesons.end();\n",
    "        bool MotherIsBHadron = (MotherIsMeson || (MotherFlavour >= 5000 && MotherFlavour < 6000));\n",
    "\n",
    "\n",
    "        // Trace back the decay chain\n",
    "        while ((!IsBHadron || (IsBHadron && MotherIsBHadron)) && !FromHardProcess && Idx != -1){\n",
    "            Idx = Mother;\n",
    "            Flavour = ParticleFlavour[Idx];\n",
    "            CandVector.push_back(Flavour);\n",
    "            IsMeson = MotherIsMeson;\n",
    "            IsBHadron = MotherIsBHadron;\n",
    "            FromHardProcess = (statusFlags[Idx] >> 8) & 1;\n",
    "        \n",
    "            // Include excited states (check that mother is not b hadron)\n",
    "            Mother = MotherIdx[Idx];\n",
    "            if (Mother < 0 || Mother >= nParticles) { \n",
    "                MotherIsMeson = false;\n",
    "                MotherIsBHadron = false;\n",
    "                break;\n",
    "            }\n",
    "            MotherFlavour = ParticleFlavour[Mother];\n",
    "            MotherIsMeson = std::find(Mesons.begin(), Mesons.end(), MotherFlavour) != Mesons.end();\n",
    "            MotherIsBHadron = (MotherIsMeson || (MotherFlavour >= 5000 && MotherFlavour < 6000));      \n",
    "\n",
    "        }\n",
    "\n",
    "        // Check if the decay chain is from BHadron\n",
    "        if (IsBHadron){\n",
    "            float CandPt = PartPt[Idx];\n",
    "\n",
    "            // Update the return values if the initial hadron has higher pt than the previous one\n",
    "            if (CandPt > ReturnPt){\n",
    "                ReturnVector.clear();\n",
    "                ReturnVector.push_back(CandVector);\n",
    "                ReturnPt = CandPt;\n",
    "                Return_pdgId = CandVector.back();\n",
    "            }\n",
    "            else if (CandPt == ReturnPt && CandVector.back() == Return_pdgId){\n",
    "                ReturnVector.push_back(CandVector);\n",
    "            }\n",
    "        }\n",
    "    }\n",
    "}\n",
    "\n",
    "pair <float, int> LeadHadron = std::make_pair(ReturnPt, Return_pdgId);\n",
    "return std::make_pair(ReturnVector, LeadHadron);\n",
    "\n",
    "}\n",
    "\n",
    "\"\"\"\n",
    "ROOT.gInterpreter.Declare(semileptonic_decay)"
   ]
  },
  {
   "cell_type": "code",
   "execution_count": null,
   "id": "3b323ab8",
   "metadata": {},
   "outputs": [],
   "source": [
    "# Track the decay chains\n",
    "df = (df.Define(\"Semileptonic\", \"SemileptonicDecay(GenPart_pdgId, GenPart_genPartIdxMother, GenPart_statusFlags, GenPart_pt)\")\n",
    "        .Define(\"SemileptonicBHadronChain_pdgId\", \"Semileptonic.first\")\n",
    "        .Define(\"SemileptonicBHadronChain_LeadPart\", \"Semileptonic.second\")\n",
    "        .Define(\"SemileptonicBHadronChain_LeadId\", \"SemileptonicBHadronChain_LeadPart.second\")\n",
    "        .Define(\"SemileptonicBHadronChain_pt\", \"SemileptonicBHadronChain_LeadPart.first\"))"
   ]
  },
  {
   "cell_type": "code",
   "execution_count": null,
   "id": "2e2ee687",
   "metadata": {},
   "outputs": [],
   "source": [
    "# Dataframe for events with leading b hadron\n",
    "df_BHad = df.Filter(\"HasB\", \"Filter events with B hadron\")"
   ]
  },
  {
   "cell_type": "code",
   "execution_count": null,
   "id": "2f10343d",
   "metadata": {},
   "outputs": [
    {
     "data": {
      "text/plain": [
       "True"
      ]
     },
     "execution_count": 24,
     "metadata": {},
     "output_type": "execute_result"
    }
   ],
   "source": [
    "# Checks if there is intermediate charm or anticharm hadron in decay chain \n",
    "# 0 = direct\n",
    "# 1 = charm \n",
    "# 2 = anti-charm\n",
    "# 3 = tau\n",
    "# Old version, includes intermediate particles\n",
    "decay_filter = \"\"\"\n",
    "bool DecayFilter(\n",
    "ROOT::RVec<ROOT::RVec<int>> DecayChains,\n",
    "int DecayChannel\n",
    "){\n",
    "int nChains = DecayChains.size();\n",
    "int Flavour;\n",
    "int Lepton;\n",
    "std::vector<int> pDMesons = {411, 413, 421, 423, 431, 433};\n",
    "std::vector<int> nDMesons = {-411, -413, -421, -423, -431, -433};\n",
    "std::vector<int> bMesons = {-511, -513, -521, -523, -531, -533};\n",
    "bool IsMuon = false;\n",
    "bool IsMeson = false;\n",
    "bool IsHadron = false;\n",
    "ROOT::RVec<int> DecayChain;\n",
    "\n",
    "\n",
    "\n",
    "\n",
    "\n",
    "//direct\n",
    "if (DecayChannel == 0){\n",
    "    for (int ii = 0; ii < nChains; ii++){\n",
    "        DecayChain = DecayChains[ii];\n",
    "        Lepton = DecayChain[0];\n",
    "        Flavour = DecayChain[1];\n",
    "\n",
    "        IsMuon = abs(Lepton) == 13;\n",
    "        IsMeson = std::find(bMesons.begin(), bMesons.end(), Flavour) != bMesons.end();\n",
    "        IsHadron = IsMeson || (Flavour >= 5000 && Flavour < 6000);\n",
    "        if (IsMuon && IsHadron){\n",
    "            return true;\n",
    "        }\n",
    "    }\n",
    "}\n",
    "\n",
    "// charm\n",
    "if (DecayChannel == 1){\n",
    "    for (int jj = 0; jj < nChains; jj++){\n",
    "        DecayChain = DecayChains[jj];\n",
    "        int nPart = DecayChain.size();\n",
    "        Lepton = DecayChain[0];\n",
    "        IsMuon = abs(Lepton) == 13;\n",
    "        Flavour = DecayChain[1];\n",
    "        IsMeson = std::find(pDMesons.begin(), pDMesons.end(), Flavour) != pDMesons.end();\n",
    "        IsHadron = IsMeson || (Flavour >= 4000 && Flavour < 5000);\n",
    "        if (IsMuon && IsHadron){\n",
    "            return true;\n",
    "        }\n",
    "    }\n",
    "}\n",
    "\n",
    "\n",
    "// anti-charm\n",
    "if (DecayChannel == 2){\n",
    "    for (int jj = 0; jj < nChains; jj++){\n",
    "        DecayChain = DecayChains[jj];\n",
    "        int nPart = DecayChain.size();\n",
    "        Lepton = DecayChain[0];\n",
    "        IsMuon = abs(Lepton) == 13;\n",
    "        Flavour = DecayChain[1];\n",
    "        IsMeson = std::find(nDMesons.begin(), nDMesons.end(), Flavour) != nDMesons.end();\n",
    "        IsHadron = IsMeson || (Flavour <= -4000 && Flavour > -5000);\n",
    "        if (IsMuon && IsHadron){\n",
    "            return true;\n",
    "        }\n",
    "    }\n",
    "}\n",
    "\n",
    "\n",
    "// tau\n",
    "if (DecayChannel == 3){\n",
    "    bool nTau;\n",
    "    bool pTau;\n",
    "    for (int jj = 0; jj < nChains; jj++){\n",
    "        DecayChain = DecayChains[jj];\n",
    "        Lepton = DecayChain[0];\n",
    "        IsMuon = abs(Lepton) == 13;\n",
    "        pTau = std::find(DecayChain.begin(), DecayChain.end(), 15) != DecayChain.end();\n",
    "        IsHadron =  pTau;     //Misleading, but using same memoryslot for tau\n",
    "        if (IsMuon && IsHadron){\n",
    "            return true;\n",
    "        }\n",
    "    }\n",
    "}\n",
    "\n",
    "\n",
    "return false;\n",
    "}\n",
    "\n",
    "\"\"\"\n",
    "ROOT.gInterpreter.Declare(decay_filter)"
   ]
  },
  {
   "cell_type": "code",
   "execution_count": null,
   "id": "b39807b7",
   "metadata": {},
   "outputs": [],
   "source": [
    "# Filtering dataframes according to the decay mode\n",
    "df = (df.Define(\"Direct\", \"DecayFilter(SemileptonicBHadronChain_pdgId, 0)\")\n",
    "        .Define(\"Charm\", \"DecayFilter(SemileptonicBHadronChain_pdgId, 1)\")\n",
    "        .Define(\"AntiCharm\", \"DecayFilter(SemileptonicBHadronChain_pdgId, 2)\")\n",
    "        .Define(\"Tau\", \"DecayFilter(SemileptonicBHadronChain_pdgId, 3)\"))"
   ]
  },
  {
   "cell_type": "code",
   "execution_count": null,
   "id": "f3092f55",
   "metadata": {},
   "outputs": [
    {
     "data": {
      "text/plain": [
       "True"
      ]
     },
     "execution_count": 27,
     "metadata": {},
     "output_type": "execute_result"
    }
   ],
   "source": [
    "# Reweight according to semileptonic decays\n",
    "# Note that event can be multiplied with multiple weights\n",
    "reweight_sl = \"\"\"\n",
    "float ReweightSL(\n",
    "    float weight,\n",
    "    float LeadHadron_pt,\n",
    "    int LeadHadron_pdgId,\n",
    "    bool Direct,\n",
    "    bool Tau,\n",
    "    bool Charm,\n",
    "    bool AntiCharm,\n",
    "    int variation\n",
    "){\n",
    "    float reweight = weight;\n",
    "    int PtIdx = -1;\n",
    "    int Value = abs(LeadHadron_pdgId);\n",
    "    ROOT::RVec<ROOT::RVec<float>> WeightVec;\n",
    "\n",
    "    // Initialize the weights according to if we want the value or bounds\n",
    "    if (variation == 0){\n",
    "        WeightVec = SemileptonicWeights;\n",
    "    }\n",
    "    else if (variation == 1){\n",
    "        WeightVec = SemileptonicWeights_down;\n",
    "    }\n",
    "    else{\n",
    "        WeightVec = SemileptonicWeights_up;\n",
    "    }\n",
    "\n",
    "    // If b->lXnu multiply with factor\n",
    "    if (Direct){\n",
    "        ROOT::RVec<float> WeightVector_Ind = WeightVec[0];\n",
    "        for (int ii = 0; ii < Intervals.size() - 1; ii++){\n",
    "            if (Intervals[ii] < LeadHadron_pt && Intervals[ii+1] > LeadHadron_pt){\n",
    "                PtIdx = ii;\n",
    "                break;\n",
    "            }\n",
    "        }\n",
    "        if (PtIdx != -1){\n",
    "            reweight *= WeightVector_Ind[PtIdx];\n",
    "        }\n",
    "    }\n",
    "\n",
    "    // If b->tauX with tau->lXnu\n",
    "    if (Tau){\n",
    "        ROOT::RVec<float> WeightVector_Ind = WeightVec[1];\n",
    "        for (int ii = 0; ii < Intervals.size() - 1; ii++){\n",
    "            if (Intervals[ii] < LeadHadron_pt && Intervals[ii+1] > LeadHadron_pt){\n",
    "                PtIdx = ii;\n",
    "                break;\n",
    "            }\n",
    "        }\n",
    "        if (PtIdx != -1){\n",
    "            reweight *= WeightVector_Ind[PtIdx];\n",
    "        }\n",
    "    }\n",
    "\n",
    "    // If b->cX with c->lXnu\n",
    "    if (Charm){\n",
    "        ROOT::RVec<float> WeightVector_Ind = WeightVec[2];\n",
    "        for (int ii = 0; ii < Intervals.size() - 1; ii++){\n",
    "            if (Intervals[ii] < LeadHadron_pt && Intervals[ii+1] > LeadHadron_pt){\n",
    "                PtIdx = ii;\n",
    "                break;\n",
    "            }\n",
    "        }\n",
    "        if (PtIdx != -1){\n",
    "            reweight *= WeightVector_Ind[PtIdx];\n",
    "        }\n",
    "    }\n",
    "\n",
    "    // If b->cbarX with c->lXnu\n",
    "    if (AntiCharm){\n",
    "        ROOT::RVec<float> WeightVector_Ind = WeightVec[3];  \n",
    "        for (int ii = 0; ii < Intervals.size() - 1; ii++){\n",
    "            if (Intervals[ii] < LeadHadron_pt && Intervals[ii+1] > LeadHadron_pt){\n",
    "                PtIdx = ii;\n",
    "                break;\n",
    "            }\n",
    "        }\n",
    "        if (PtIdx != -1){\n",
    "            reweight *= WeightVector_Ind[PtIdx];\n",
    "        }\n",
    "    }\n",
    "\n",
    "    // If b decays hadronically\n",
    "    if (!Direct && !Tau && !Charm && !AntiCharm){\n",
    "        ROOT::RVec<float> WeightVector_Ind = WeightVec[4];  \n",
    "        for (int ii = 0; ii < Intervals.size() - 1; ii++){\n",
    "            if (Intervals[ii] < LeadHadron_pt && Intervals[ii+1] > LeadHadron_pt){\n",
    "                PtIdx = ii;\n",
    "                break;\n",
    "            }\n",
    "        }\n",
    "        if (PtIdx != -1){\n",
    "            reweight *= WeightVector_Ind[PtIdx];\n",
    "        }\n",
    "    }\n",
    "\n",
    "    return reweight;\n",
    "}\n",
    "\"\"\"\n",
    "ROOT.gInterpreter.Declare(reweight_sl)"
   ]
  },
  {
   "cell_type": "code",
   "execution_count": null,
   "id": "b0f09138",
   "metadata": {},
   "outputs": [],
   "source": [
    "# Define reweighted event weights according to semileptonic decays\n",
    "df = (df.Define(\"GenWeight_SL\", \"ReweightSL(genWeight, LeadHadron_pt, LeadHadron_pdgId, Direct, Tau, Charm, AntiCharm, 0)\")\n",
    "        .Define(\"GenWeight_SL_up\", \"ReweightSL(genWeight, LeadHadron_pt, LeadHadron_pdgId, Direct, Tau, Charm, AntiCharm, 1)\")\n",
    "        .Define(\"GenWeight_SL_down\", \"ReweightSL(genWeight, LeadHadron_pt, LeadHadron_pdgId, Direct, Tau, Charm, AntiCharm, 2)\"))"
   ]
  },
  {
   "cell_type": "code",
   "execution_count": null,
   "id": "de6e4517",
   "metadata": {},
   "outputs": [
    {
     "data": {
      "text/plain": [
       "True"
      ]
     },
     "execution_count": 30,
     "metadata": {},
     "output_type": "execute_result"
    }
   ],
   "source": [
    "# Reweight individual decay modes\n",
    "# variation 0 = central, 1 = down, 2 = up\n",
    "reweight_sl_ind = \"\"\"\n",
    "float ReweightSLInd(\n",
    "    float weight,\n",
    "    float LeadHadron_pt,\n",
    "    int LeadHadron_pdgId,\n",
    "    bool Leptonic,\n",
    "    int variation\n",
    "){\n",
    "float reweight = weight;\n",
    "int PtIdx = -1;\n",
    "int Value = abs(LeadHadron_pdgId);\n",
    "ROOT::RVec<float> WeightVector_Ind;\n",
    "ROOT::RVec<ROOT::RVec<float>> WeightVec;\n",
    "\n",
    "if (variation == 0){\n",
    "    WeightVec = IndividualWeights;\n",
    "}\n",
    "else if (variation == 1){\n",
    "    WeightVec = IndividualWeights_down;\n",
    "}\n",
    "else{\n",
    "    WeightVec = IndividualWeights_up;\n",
    "}\n",
    "\n",
    "// First decide if hadron decays semileptonically\n",
    "// After that choose a weight for corresponding leading hadron \n",
    "if (Leptonic){\n",
    "    if (Value == 511 || Value == 513){\n",
    "        WeightVector_Ind = WeightVec[0];\n",
    "    }\n",
    "    else if (Value == 521 || Value == 523){\n",
    "        WeightVector_Ind = WeightVec[1];\n",
    "    }\n",
    "    else if (Value == 531 || Value == 533){\n",
    "        WeightVector_Ind = WeightVec[2];\n",
    "    }\n",
    "    else{return weight;}\n",
    "}\n",
    "else{\n",
    "    if (Value == 511 || Value == 513){\n",
    "        WeightVector_Ind = WeightVec[3];\n",
    "    }\n",
    "    else if (Value == 521 || Value == 523){\n",
    "        WeightVector_Ind = WeightVec[4];\n",
    "    }\n",
    "    else if (Value == 531 || Value == 533){\n",
    "        WeightVector_Ind = WeightVec[5];\n",
    "    }\n",
    "}\n",
    "\n",
    "// Choose the right pt bin\n",
    "for (int ii = 0; ii < Intervals.size() - 1; ii++){\n",
    "    if (Intervals[ii] < LeadHadron_pt && Intervals[ii+1] > LeadHadron_pt){\n",
    "        PtIdx = ii;\n",
    "        break;\n",
    "    }\n",
    "}\n",
    "\n",
    "// Other decay modes stay unweighted\n",
    "if( PtIdx ==  -1){return weight;}\n",
    "\n",
    "// Multiply weight with scaling factor\n",
    "reweight = weight * WeightVector_Ind[PtIdx];\n",
    "return reweight;\n",
    "}\n",
    "\"\"\"\n",
    "ROOT.gInterpreter.Declare(reweight_sl_ind)"
   ]
  },
  {
   "cell_type": "code",
   "execution_count": null,
   "id": "1b2e4ed9",
   "metadata": {},
   "outputs": [],
   "source": [
    "# Reweight according to individual decay modes\n",
    "df = (df.Define(\"GenWeight_Ind\", \"ReweightSLInd(genWeight, LeadHadron_pt, LeadHadron_pdgId, Direct, 0)\")\n",
    "        .Define(\"GenWeight_Ind_up\", \"ReweightSLInd(genWeight, LeadHadron_pt, LeadHadron_pdgId, Direct, 1)\")\n",
    "        .Define(\"GenWeight_Ind_down\", \"ReweightSLInd(genWeight, LeadHadron_pt, LeadHadron_pdgId, Direct, 2)\"))"
   ]
  },
  {
   "cell_type": "code",
   "execution_count": null,
   "id": "9d9791ee",
   "metadata": {},
   "outputs": [
    {
     "data": {
      "text/plain": [
       "True"
      ]
     },
     "execution_count": 32,
     "metadata": {},
     "output_type": "execute_result"
    }
   ],
   "source": [
    "# Reweight according to inclusive decay modes\n",
    "# Strange is left for future again\n",
    "reweight_inclusive = \"\"\"\n",
    "float ReweightInclusive(\n",
    "    float weight,\n",
    "    float LeadHadron_pt,\n",
    "    int LeadHadron_pdgId,\n",
    "    ROOT::RVec<float> InclusiveCount,\n",
    "    int variation\n",
    "){\n",
    "float reweight = weight;\n",
    "int PtIdx = -1;\n",
    "ROOT::RVec<float> WeightVector_Ind;\n",
    "\n",
    "ROOT::RVec<ROOT::RVec<float>> uWeightVec;\n",
    "ROOT::RVec<ROOT::RVec<float>> pWeightVec;\n",
    "ROOT::RVec<ROOT::RVec<float>> sWeightVec;\n",
    "\n",
    "if (variation == 0){\n",
    "    uWeightVec = InclusiveUncharged;\n",
    "    pWeightVec = InclusiveCharged;\n",
    "    //sWeightVec = InclusiveStrange;\n",
    "}\n",
    "else if (variation == 1){\n",
    "    uWeightVec = InclusiveUncharged_down;\n",
    "    pWeightVec = InclusiveCharged_down;\n",
    "    //sWeightVec = InclusiveStrange_down;\n",
    "}\n",
    "else{\n",
    "    uWeightVec = InclusiveUncharged_up;\n",
    "    pWeightVec = InclusiveCharged_up;\n",
    "    //sWeightVec = InclusiveStrange_up;\n",
    "}\n",
    "\n",
    "// First choose the corresponding leading hadron and then the decay channel\n",
    "if (LeadHadron_pdgId == -511 || LeadHadron_pdgId == -513){\n",
    "    if (InclusiveCount[0] > 0){\n",
    "        WeightVector_Ind = uWeightVec[0];\n",
    "        for (int ii = 0; ii < Intervals.size() - 1; ii++){\n",
    "            if (Intervals[ii] < LeadHadron_pt && Intervals[ii+1] > LeadHadron_pt){\n",
    "                PtIdx = ii;\n",
    "                break;\n",
    "            }\n",
    "        }\n",
    "        if( PtIdx !=  -1){\n",
    "            reweight = reweight * WeightVector_Ind[PtIdx];\n",
    "        }\n",
    "    }\n",
    "    if (InclusiveCount[1] > 0){\n",
    "        PtIdx =  -1;\n",
    "        WeightVector_Ind = uWeightVec[1];\n",
    "        for (int ii = 0; ii < Intervals.size() - 1; ii++){\n",
    "            if (Intervals[ii] < LeadHadron_pt && Intervals[ii+1] > LeadHadron_pt){\n",
    "                PtIdx = ii;\n",
    "                break;\n",
    "            }\n",
    "        }\n",
    "        if( PtIdx !=  -1){\n",
    "            reweight = reweight * WeightVector_Ind[PtIdx];\n",
    "        }\n",
    "    }\n",
    "    if (InclusiveCount[2] > 0){\n",
    "        PtIdx =  -1;\n",
    "        WeightVector_Ind = uWeightVec[2];\n",
    "        for (int ii = 0; ii < Intervals.size() - 1; ii++){\n",
    "            if (Intervals[ii] < LeadHadron_pt && Intervals[ii+1] > LeadHadron_pt){\n",
    "                PtIdx = ii;\n",
    "                break;\n",
    "            }\n",
    "        }\n",
    "        if( PtIdx !=  -1){\n",
    "            reweight = reweight * WeightVector_Ind[PtIdx];\n",
    "        }\n",
    "    }\n",
    "    if (InclusiveCount[0] == 0 && InclusiveCount[1] == 0 && InclusiveCount[2] == 0){\n",
    "        PtIdx =  -1;\n",
    "        WeightVector_Ind = uWeightVec[3];\n",
    "        for (int ii = 0; ii < Intervals.size() - 1; ii++){\n",
    "            if (Intervals[ii] < LeadHadron_pt && Intervals[ii+1] > LeadHadron_pt){\n",
    "                PtIdx = ii;\n",
    "                break;\n",
    "            }\n",
    "        }\n",
    "        if( PtIdx !=  -1){\n",
    "            reweight = reweight * WeightVector_Ind[PtIdx];\n",
    "        }\n",
    "    } \n",
    "}\n",
    "\n",
    "else if (LeadHadron_pdgId == -521 || LeadHadron_pdgId == -523){\n",
    "    if (InclusiveCount[0] > 0){\n",
    "        WeightVector_Ind = pWeightVec[0];\n",
    "        for (int ii = 0; ii < Intervals.size() - 1; ii++){\n",
    "            if (Intervals[ii] < LeadHadron_pt && Intervals[ii+1] > LeadHadron_pt){\n",
    "                PtIdx = ii;\n",
    "                break;\n",
    "            }\n",
    "        }\n",
    "        if( PtIdx !=  -1){\n",
    "            reweight = reweight * WeightVector_Ind[PtIdx];\n",
    "        }\n",
    "    }\n",
    "    if (InclusiveCount[1] > 0){\n",
    "        PtIdx =  -1;\n",
    "        WeightVector_Ind = pWeightVec[1];\n",
    "        for (int ii = 0; ii < Intervals.size() - 1; ii++){\n",
    "            if (Intervals[ii] < LeadHadron_pt && Intervals[ii+1] > LeadHadron_pt){\n",
    "                PtIdx = ii;\n",
    "                break;\n",
    "            }\n",
    "        }\n",
    "        if( PtIdx !=  -1){\n",
    "            reweight = reweight * WeightVector_Ind[PtIdx];\n",
    "        }\n",
    "    }\n",
    "    if (InclusiveCount[2] > 0){\n",
    "        PtIdx =  -1;\n",
    "        WeightVector_Ind = pWeightVec[2];\n",
    "        for (int ii = 0; ii < Intervals.size() - 1; ii++){\n",
    "            if (Intervals[ii] < LeadHadron_pt && Intervals[ii+1] > LeadHadron_pt){\n",
    "                PtIdx = ii;\n",
    "                break;\n",
    "            }\n",
    "        }\n",
    "        if( PtIdx !=  -1){\n",
    "            reweight = reweight * WeightVector_Ind[PtIdx];\n",
    "        }\n",
    "    }\n",
    "    if (InclusiveCount[0] == 0 && InclusiveCount[1] == 0 && InclusiveCount[2] == 0){\n",
    "        PtIdx =  -1;\n",
    "        WeightVector_Ind = pWeightVec[3];\n",
    "        for (int ii = 0; ii < Intervals.size() - 1; ii++){\n",
    "            if (Intervals[ii] < LeadHadron_pt && Intervals[ii+1] > LeadHadron_pt){\n",
    "                PtIdx = ii;\n",
    "                break;\n",
    "            }\n",
    "        }\n",
    "        if( PtIdx !=  -1){\n",
    "            reweight = reweight * WeightVector_Ind[PtIdx];\n",
    "        }\n",
    "    } \n",
    "}\n",
    "\n",
    "// Strange Meson\n",
    "else if (LeadHadron_pdgId == -531 || LeadHadron_pdgId == -533){\n",
    "    return weight;\n",
    "    if (InclusiveCount[3] > 0){\n",
    "        WeightVector_Ind = sWeightVec[0];\n",
    "        for (int ii = 0; ii < Intervals.size() - 1; ii++){\n",
    "            if (Intervals[ii] < LeadHadron_pt && Intervals[ii+1] > LeadHadron_pt){\n",
    "                PtIdx = ii;\n",
    "                break;\n",
    "            }\n",
    "        }\n",
    "        if( PtIdx !=  -1){\n",
    "            reweight = reweight * WeightVector_Ind[PtIdx];\n",
    "        }\n",
    "    }\n",
    "    // Other than strange decay\n",
    "    else{\n",
    "        WeightVector_Ind = sWeightVec[1];\n",
    "        for (int ii = 0; ii < Intervals.size() - 1; ii++){\n",
    "            if (Intervals[ii] < LeadHadron_pt && Intervals[ii+1] > LeadHadron_pt){\n",
    "                PtIdx = ii;\n",
    "                break;\n",
    "            }\n",
    "        }\n",
    "        if( PtIdx !=  -1){\n",
    "            reweight = reweight * WeightVector_Ind[PtIdx];\n",
    "        }\n",
    "    }\n",
    "}\n",
    "\n",
    "return reweight;\n",
    "}\n",
    "\"\"\"\n",
    "ROOT.gInterpreter.Declare(reweight_inclusive)"
   ]
  },
  {
   "cell_type": "code",
   "execution_count": null,
   "id": "86885e66",
   "metadata": {},
   "outputs": [
    {
     "data": {
      "text/plain": [
       "True"
      ]
     },
     "execution_count": 33,
     "metadata": {},
     "output_type": "execute_result"
    }
   ],
   "source": [
    "# Loop through semileptonic decay chains returns pair of flavours within decay chain and BHadron pt for binning \n",
    "# Only computed from largest hadron\n",
    "inclusive_decay = \"\"\"\n",
    "pair<ROOT::RVec<ROOT::RVec<int>>, pair<float, int>> InclusiveDecay(\n",
    "ROOT::RVec<int> ParticleFlavour,\n",
    "ROOT::RVec<int> MotherIdx,\n",
    "ROOT::VecOps::RVec<UShort_t> statusFlags,\n",
    "ROOT::RVec<float> PartPt,\n",
    "int MesonFlavour\n",
    "){\n",
    "\n",
    "int nParticles = ParticleFlavour.size();\n",
    "ROOT::RVec<ROOT::RVec<int>> ReturnVector;\n",
    "float ReturnPt = 0;\n",
    "int Return_pdgId;\n",
    "std::vector<int> Mesons = {-511, -513, -521, -523, -531, -533};\n",
    "\n",
    "\n",
    "// loop through every particle in event\n",
    "for (int ii = 0; ii < nParticles; ii++){\n",
    "    int Flavour = ParticleFlavour[ii];\n",
    "\n",
    "    // If the particle is lepton\n",
    "    if (abs(Flavour) == MesonFlavour){\n",
    "\n",
    "\n",
    "        // Initialize the while loop\n",
    "        int Idx = ii;\n",
    "        bool IsMeson = false;\n",
    "        bool IsBHadron = false;\n",
    "        ROOT::RVec<int> CandVector;\n",
    "        CandVector.push_back(Flavour);\n",
    "        bool FromHardProcess = (statusFlags[Idx] >> 8) & 1;\n",
    "\n",
    "        int Mother = MotherIdx[Idx];\n",
    "        int MotherFlavour = ParticleFlavour[Mother];\n",
    "        bool MotherIsMeson = std::find(Mesons.begin(), Mesons.end(), MotherFlavour) != Mesons.end();\n",
    "        bool MotherIsBHadron = (MotherIsMeson || (MotherFlavour >= 5000 && MotherFlavour < 6000));\n",
    "\n",
    "\n",
    "        // Trace back the decay chain\n",
    "        while ((!IsBHadron || (IsBHadron && MotherIsBHadron)) && !FromHardProcess && Idx != -1){\n",
    "            Idx = Mother;\n",
    "            Flavour = ParticleFlavour[Idx];\n",
    "            CandVector.push_back(Flavour);\n",
    "            IsMeson = MotherIsMeson;\n",
    "            IsBHadron = MotherIsBHadron;\n",
    "            FromHardProcess = (statusFlags[Idx] >> 8) & 1;\n",
    "        \n",
    "            // Include excited states (check that mother is not b hadron)\n",
    "            Mother = MotherIdx[Idx];\n",
    "            if (Mother < 0 || Mother >= nParticles) { \n",
    "                MotherIsMeson = false;\n",
    "                MotherIsBHadron = false;\n",
    "                break;\n",
    "            }\n",
    "            MotherFlavour = ParticleFlavour[Mother];\n",
    "            MotherIsMeson = std::find(Mesons.begin(), Mesons.end(), MotherFlavour) != Mesons.end();\n",
    "            MotherIsBHadron = (MotherIsMeson || (MotherFlavour >= 5000 && MotherFlavour < 6000));      \n",
    "\n",
    "        }\n",
    "\n",
    "        // Check if the decay chain is from BHadron\n",
    "        if (IsBHadron){\n",
    "            float CandPt = PartPt[Idx];\n",
    "\n",
    "            // Update the return values if the initial hadron has higher pt than the previous one\n",
    "            if (CandPt > ReturnPt){\n",
    "                ReturnVector.clear();\n",
    "                ReturnVector.push_back(CandVector);\n",
    "                ReturnPt = CandPt;\n",
    "                Return_pdgId = CandVector.back();\n",
    "            }\n",
    "            else if (CandPt == ReturnPt && CandVector.back() == Return_pdgId){\n",
    "                ReturnVector.push_back(CandVector);\n",
    "            }\n",
    "        }\n",
    "    }\n",
    "}\n",
    "\n",
    "pair <float, int> LeadHadron = std::make_pair(ReturnPt, Return_pdgId);\n",
    "return std::make_pair(ReturnVector, LeadHadron);\n",
    "\n",
    "}\n",
    "\n",
    "\"\"\"\n",
    "ROOT.gInterpreter.Declare(inclusive_decay)"
   ]
  },
  {
   "cell_type": "code",
   "execution_count": null,
   "id": "c1f858c5",
   "metadata": {},
   "outputs": [],
   "source": [
    "# Compute decay chains for inclusive decays\n",
    "df = (df.Define(\"InclusiveUncharged\", \"InclusiveDecay(GenPart_pdgId, GenPart_genPartIdxMother, GenPart_statusFlags, GenPart_pt, 421)\")\n",
    "                        .Define(\"InclusiveUnchargedChain_pdgId\", \"InclusiveUncharged.first\")\n",
    "                        .Define(\"InclusiveUnchargedChain_LeadPart\", \"InclusiveUncharged.second\")\n",
    "                        .Define(\"InclusiveUnchargedChain_pt\", \"InclusiveUnchargedChain_LeadPart.first\")\n",
    "                        .Define(\"InclusiveUnchargedChain_LeadId\", \"InclusiveUnchargedChain_LeadPart.second\"))\n",
    "\n",
    "df = (df.Define(\"InclusiveCharged\", \"InclusiveDecay(GenPart_pdgId, GenPart_genPartIdxMother, GenPart_statusFlags, GenPart_pt, 411)\")\n",
    "        .Define(\"InclusiveChargedChain_pdgId\", \"InclusiveCharged.first\")\n",
    "        .Define(\"InclusiveChargedChain_LeadPart\", \"InclusiveCharged.second\")\n",
    "        .Define(\"InclusiveChargedChain_pt\", \"InclusiveChargedChain_LeadPart.first\")\n",
    "        .Define(\"InclusiveChargedChain_LeadId\", \"InclusiveChargedChain_LeadPart.second\"))\n",
    "\n",
    "df = (df.Define(\"InclusiveStrange\", \"InclusiveDecay(GenPart_pdgId, GenPart_genPartIdxMother, GenPart_statusFlags, GenPart_pt, 431)\")\n",
    "        .Define(\"InclusiveStrangeChain_pdgId\", \"InclusiveStrange.first\")\n",
    "        .Define(\"InclusiveStrangeChain_LeadPart\", \"InclusiveStrange.second\")\n",
    "        .Define(\"InclusiveStrangeChain_pt\", \"InclusiveStrangeChain_LeadPart.first\")\n",
    "        .Define(\"InclusiveStrangeChain_LeadId\", \"InclusiveStrangeChain_LeadPart.second\"))"
   ]
  },
  {
   "cell_type": "code",
   "execution_count": null,
   "id": "146567b8",
   "metadata": {},
   "outputs": [],
   "source": [
    "# Compute number of specific decays\n",
    "df = df.Define(\n",
    "    \"InclusiveCount\",\n",
    "    \"\"\"\n",
    "    ROOT::RVec<int> v({\n",
    "        static_cast<int>(InclusiveUnchargedChain_pdgId.size()),\n",
    "        static_cast<int>(InclusiveChargedChain_pdgId.size()),\n",
    "        static_cast<int>(InclusiveStrangeChain_pdgId.size()),\n",
    "        0\n",
    "    });\n",
    "    return v;\n",
    "    \"\"\"\n",
    ")\n"
   ]
  },
  {
   "cell_type": "code",
   "execution_count": null,
   "id": "f1becd5c",
   "metadata": {},
   "outputs": [
    {
     "data": {
      "text/plain": [
       "True"
      ]
     },
     "execution_count": 36,
     "metadata": {},
     "output_type": "execute_result"
    }
   ],
   "source": [
    "# Compute Hadrons\n",
    "compute_hadrons = \"\"\"\n",
    "ROOT::RVec<int> ComputeHadrons(\n",
    "ROOT::RVec<ROOT::RVec<int>> DecayChains,\n",
    "bool Strange\n",
    "){\n",
    "ROOT::RVec<int> ReturnVector = {0, 0, 0, 0};\n",
    "ROOT::RVec<int> DecayChain;\n",
    "int Flavour;\n",
    "\n",
    "if (!Strange){\n",
    "    for (int ii = 0; ii < DecayChains.size(); ii++){\n",
    "        DecayChain = DecayChains[ii];\n",
    "        for (int jj = 0; jj < DecayChain.size(); jj++){\n",
    "            Flavour = abs(DecayChain[jj]);\n",
    "            if (Flavour == 411 || Flavour == 413){\n",
    "                ReturnVector[0] += 1;\n",
    "                break;\n",
    "                }\n",
    "            else if (Flavour == 421 || Flavour == 423){\n",
    "                ReturnVector[1] += 1;\n",
    "                break;\n",
    "                }\n",
    "            else if (Flavour == 431 || Flavour == 433){\n",
    "                ReturnVector[2] += 1;\n",
    "                break;\n",
    "            }\n",
    "        }\n",
    "    }\n",
    "}\n",
    "else{\n",
    "    for (int ii = 0; ii < DecayChains.size(); ii++){\n",
    "        DecayChain = DecayChains[ii];\n",
    "        for (int jj = 0; jj < DecayChain.size(); jj++){\n",
    "            Flavour = DecayChain[jj];\n",
    "            if (Flavour == -431 || Flavour == -433){\n",
    "                ReturnVector[3] += 1;\n",
    "                break;\n",
    "            }\n",
    "        }\n",
    "    }\n",
    "}\n",
    "return ReturnVector;\n",
    "}\n",
    "\"\"\"\n",
    "\n",
    "ROOT.gInterpreter.Declare(compute_hadrons)"
   ]
  },
  {
   "cell_type": "code",
   "execution_count": null,
   "id": "8845e0fb",
   "metadata": {},
   "outputs": [],
   "source": [
    "%%script false --no raise error\n",
    "df = (df.Define(\"IsStrange\", \"LeadHadron_pdgId == -531 || LeadHadron_pdgId == -533\")\n",
    "        .Define(\"InclusiveCount\", \"ComputeHadrons(SemileptonicBHadronChain_pdgId, IsStrange)\"))"
   ]
  },
  {
   "cell_type": "code",
   "execution_count": null,
   "id": "14feb25c",
   "metadata": {},
   "outputs": [],
   "source": [
    "df = (df.Define(\"GenWeight_Inc\", \"ReweightInclusive(genWeight, LeadHadron_pt, LeadHadron_pdgId, InclusiveCount, 0)\")\n",
    "        .Define(\"GenWeight_Inc_up\", \"ReweightInclusive(genWeight, LeadHadron_pt, LeadHadron_pdgId, InclusiveCount, 1)\")\n",
    "        .Define(\"GenWeight_Inc_down\", \"ReweightInclusive(genWeight, LeadHadron_pt, LeadHadron_pdgId, InclusiveCount, 2)\"))"
   ]
  },
  {
   "cell_type": "code",
   "execution_count": null,
   "id": "90e797c1",
   "metadata": {},
   "outputs": [],
   "source": [
    "%%script false --no raise error\n",
    "reweight_production = \"\"\"\n",
    "float ReweightProduction(\n",
    "int LeadHadron_pdgId,\n",
    "float LeadHadron_pt,\n",
    "float weight,\n",
    "int variation\n",
    "){\n",
    "float reweight = weight;\n",
    "int PtIdx = -1;\n",
    "int Value = abs(LeadHadron_pdgId));\n",
    "\n",
    "ROOT::RVec<float> WeightVector_Ind;\n",
    "\n",
    "ROOT::RVec<ROOT::RVec<float>> WeightVec;\n",
    "\n",
    "if (variation == 0){\n",
    "    WeightVec = FractionWeights;\n",
    "}\n",
    "else if (variation == 1){\n",
    "    WeightVec = FractionWeights_down;\n",
    "}\n",
    "else{\n",
    "    WeightVec = FractionWeights_up;\n",
    "}\n",
    "\n",
    "if (Value == 511 || Value == 513 || Value == 521 || Value == 523){\n",
    "    ROOT::RVec WeightVector_Ind = WeightVec[0];\n",
    "}\n",
    "else if (!(Value == 511 || Value == 513 || Value == 521 || Value == 523) && Value >=500 && Value < 600){\n",
    "    ROOT::RVec WeightVector_Ind = WeightVec[1];\n",
    "}\n",
    "else if (Value == 531 || Value == 533){\n",
    "    ROOT::RVec WeightVector_Ind = WeightVec[2];\n",
    "}\n",
    "else{return weight;}\n",
    "\n",
    "for (int ii = 0; ii < Intervals.size() - 1; ii++){\n",
    "    if (Intervals[ii] < LeadHadron_pt && Intervals[ii+1] > LeadHadron_pt){\n",
    "        PtIdx = ii;\n",
    "        break;\n",
    "    }\n",
    "    if( PtIdx !=  -1){\n",
    "        reweight = reweight * WeightVector_Ind[PtIdx];\n",
    "    }\n",
    "}\n",
    "return reweight;\n",
    "}\n",
    "\"\"\"\n",
    "ROOT.gInterpreter.Declare(reweight_production)"
   ]
  },
  {
   "cell_type": "code",
   "execution_count": null,
   "id": "86606200",
   "metadata": {},
   "outputs": [],
   "source": [
    "%%script false --no raise error\n",
    "df = (df.Define(\"GenWeight_Prod\", \"ReweightProduction(genWeight, LeadHadron_pt, LeadHadron_pdgId, InclusiveCount, 0)\")\n",
    "        .Define(\"GenWeight_Prod_up\", \"ReweightProduction(genWeight, LeadHadron_pt, LeadHadron_pdgId, InclusiveCount, 1)\")\n",
    "        .Define(\"GenWeight_Prod_down\", \"ReweightProduction(genWeight, LeadHadron_pt, LeadHadron_pdgId, InclusiveCount, 2)\"))"
   ]
  },
  {
   "cell_type": "markdown",
   "id": "3a3e777b",
   "metadata": {},
   "source": [
    "Computing MC-truth"
   ]
  },
  {
   "cell_type": "code",
   "execution_count": null,
   "id": "69147b5c",
   "metadata": {},
   "outputs": [
    {
     "data": {
      "text/plain": [
       "True"
      ]
     },
     "execution_count": 41,
     "metadata": {},
     "output_type": "execute_result"
    }
   ],
   "source": [
    "# Helper function that loops over jets and creates a vector of four vectors\n",
    "make4vector = \"\"\"\n",
    "ROOT::RVec<ROOT::Math::PtEtaPhiMVector> Make4Vector(\n",
    "ROOT::RVec<float> Jet_pt, \n",
    "ROOT::RVec<float> Jet_eta, \n",
    "ROOT::RVec<float> Jet_phi,\n",
    "ROOT::RVec<float> Jet_mass){\n",
    "\n",
    "ROOT::RVec<ROOT::Math::PtEtaPhiMVector> jets;\n",
    "int nJets = Jet_pt.size();\n",
    "\n",
    "for (int idx = 0; idx < nJets; idx++){\n",
    "    auto jet = ROOT::Math::PtEtaPhiMVector(Jet_pt[idx], Jet_eta[idx], Jet_phi[idx], Jet_mass[idx]);\n",
    "    jets.push_back(jet);\n",
    "}\n",
    "return jets;\n",
    "}\n",
    "\n",
    "\"\"\"\n",
    "\n",
    "ROOT.gInterpreter.Declare(make4vector)"
   ]
  },
  {
   "cell_type": "code",
   "execution_count": null,
   "id": "f2cf493a",
   "metadata": {},
   "outputs": [
    {
     "data": {
      "text/plain": [
       "True"
      ]
     },
     "execution_count": 42,
     "metadata": {},
     "output_type": "execute_result"
    }
   ],
   "source": [
    "# Squared DeltaR function for jet and particle matching\n",
    "DeltaR = \"\"\"\n",
    "Float_t DeltaR(Float_t eta1, Float_t eta2, Float_t phi1, Float_t phi2)\n",
    "{    \n",
    "    Float_t dEta = eta2 - eta1;\n",
    "    Float_t dPhi = TVector2::Phi_mpi_pi(phi2 - phi1); // properly handle phi wrapping\n",
    "    return pow(dEta, 2) + pow(dPhi, 2);\n",
    "    }\n",
    "\"\"\"\n",
    "ROOT.gInterpreter.Declare(DeltaR)"
   ]
  },
  {
   "cell_type": "code",
   "execution_count": null,
   "id": "46790d70",
   "metadata": {},
   "outputs": [
    {
     "data": {
      "text/plain": [
       "True"
      ]
     },
     "execution_count": 43,
     "metadata": {},
     "output_type": "execute_result"
    }
   ],
   "source": [
    "# Find corresponding reco jets for gen jets\n",
    "JetMatch = \"\"\"\n",
    "\n",
    "ROOT::RVec <ROOT::Math::PtEtaPhiMVector> JetMatch(\n",
    "ROOT::VecOps::RVec<ROOT::Math::PtEtaPhiMVector> GenEvent4Vector, \n",
    "ROOT::VecOps::RVec<ROOT::Math::PtEtaPhiMVector> RecoEvent4Vector)\n",
    "{\n",
    "\n",
    "    Int_t nJets = GenEvent4Vector.size();\n",
    "    ROOT::RVec <ROOT::Math::PtEtaPhiMVector> ReturnVector(nJets, ROOT::Math::PtEtaPhiMVector(-1,-1,-1,-1)) ;\n",
    "\n",
    "    //Storing Eta for finding the indices\n",
    "    ROOT::RVec<ROOT::Math::PtEtaPhiMVector> RecoEvent = RecoEvent4Vector;\n",
    "    ROOT::Math::PtEtaPhiMVector Cand4Vector;\n",
    "\n",
    "    // Lambda function to remove the elements\n",
    "    auto is_equal = [](const ROOT::Math::PtEtaPhiMVector& a, const ROOT::Math::PtEtaPhiMVector& b, double tol = 1e-5) {\n",
    "    return (std::abs(a.Pt() - b.Pt()) < tol &&\n",
    "            std::abs(a.Eta() - b.Eta()) < tol &&\n",
    "            std::abs(a.Phi() - b.Phi()) < tol &&\n",
    "            std::abs(a.M() - b.M()) < tol);\n",
    "    };\n",
    "    \n",
    "    // Loop through GenJets\n",
    "    for (int idxGen = 0; idxGen < nJets; idxGen++){\n",
    "\n",
    "        ROOT::RVec <Float_t> dR(RecoEvent.size());\n",
    "        // Loop through RecoJets\n",
    "        for (int idxReco = 0; idxReco < RecoEvent.size(); idxReco++){\n",
    "            dR[idxReco] = DeltaR(GenEvent4Vector[idxGen].Eta(), RecoEvent[idxReco].Eta(), GenEvent4Vector[idxGen].Phi(), RecoEvent[idxReco].Phi());\n",
    "        }\n",
    "\n",
    "        // Finding the minimum\n",
    "        auto MinIdx = ROOT::VecOps::ArgMin(dR);\n",
    "        Cand4Vector = RecoEvent[MinIdx];\n",
    "\n",
    "        // Ensure that matching is proper with bound of DeltaR < 0.2\n",
    "        if (dR[MinIdx] < 0.04){\n",
    "            ReturnVector[idxGen] = Cand4Vector;\n",
    "\n",
    "            // Remove the chosen vectors\n",
    "            RecoEvent.erase(std::remove_if(RecoEvent.begin(), RecoEvent.end(),\n",
    "                [&](const ROOT::Math::PtEtaPhiMVector& v) {\n",
    "                    return is_equal(v, Cand4Vector);\n",
    "                }), RecoEvent.end());\n",
    "\n",
    "        }\n",
    "        else{\n",
    "            ReturnVector[idxGen] = ROOT::Math::PtEtaPhiMVector(-1,-1,-1,-1);\n",
    "        }\n",
    "    }\n",
    "    return ReturnVector;\n",
    "}\n",
    "\"\"\"\n",
    "ROOT.gInterpreter.Declare(JetMatch)\n"
   ]
  },
  {
   "cell_type": "code",
   "execution_count": null,
   "id": "e7441b99",
   "metadata": {},
   "outputs": [
    {
     "data": {
      "text/plain": [
       "True"
      ]
     },
     "execution_count": 44,
     "metadata": {},
     "output_type": "execute_result"
    }
   ],
   "source": [
    "# The ill-matched jets are tagged with vector of -1\n",
    "# The function removes all of them\n",
    "RemoveJets = \"\"\"\n",
    "auto RemoveJets(\n",
    "auto Jets,\n",
    "ROOT::RVec <ROOT::Math::PtEtaPhiMVector> Condition\n",
    "){\n",
    "    auto ReturnVector = decltype(Jets){};\n",
    "    for (int ii = 0; ii < Jets.size(); ii++){\n",
    "        if (Condition[ii].Pt() != -1)\n",
    "            ReturnVector.push_back(Jets[ii]);\n",
    "    }\n",
    "    return ReturnVector;\n",
    "}\n",
    "\"\"\"\n",
    "\n",
    "ROOT.gInterpreter.Declare(RemoveJets)"
   ]
  },
  {
   "cell_type": "code",
   "execution_count": null,
   "id": "e8f8e39d",
   "metadata": {},
   "outputs": [],
   "source": [
    "# Make 4 vectors for generated and recovered jets with loose criterion\n",
    "df= (df.Define(\"GenJet4Vector\", \"Make4Vector(GenJet_pt, GenJet_eta, GenJet_phi, GenJet_mass)\")\n",
    "        .Define(\"Jet4Vector\", \"Make4Vector(Jet_pt, Jet_eta, Jet_phi, Jet_mass)\")\n",
    "        .Define(\"Parton4Vector\", \"Make4Vector(GenPart_pt, GenPart_eta, GenPart_phi, GenPart_mass)\"))\n",
    "\n",
    "# Recojets to correct order\n",
    "df_tt = (df.Redefine(\"Jet4Vector\", \"JetMatch(GenJet4Vector, Jet4Vector)\")\n",
    "            .Redefine(\"Parton4Vector\", \"JetMatch(GenJet4Vector, Parton4Vector)\")\n",
    "            .Redefine(\"GenJet4Vector\", \"RemoveJets(GenJet4Vector, Jet4Vector)\")\n",
    "            .Redefine(\"Parton4Vector\", \"RemoveJets(Parton4Vector, Jet4Vector)\") \n",
    "            .Redefine(\"GenJet_partonFlavour\", \"RemoveJets(GenJet_partonFlavour, Jet4Vector)\")\n",
    "            .Redefine(\"Jet4Vector\", \"RemoveJets(Jet4Vector, Jet4Vector)\"))"
   ]
  },
  {
   "cell_type": "code",
   "execution_count": null,
   "id": "47b9c65b",
   "metadata": {},
   "outputs": [
    {
     "data": {
      "text/plain": [
       "True"
      ]
     },
     "execution_count": 46,
     "metadata": {},
     "output_type": "execute_result"
    }
   ],
   "source": [
    "# TightId criterion for the jets + filter muons\n",
    "Filter_tight_jets = \"\"\"\n",
    "ROOT::RVec <Bool_t> FilterTight(\n",
    "ROOT::RVec <Float_t> JetEtaVec, \n",
    "ROOT::RVec <Float_t> Jet_neEmEFVec, \n",
    "ROOT::RVec <Float_t> Jet_neHEFVec, \n",
    "ROOT::VecOps::RVec<UChar_t> Jet_chMultiplicityVec,\n",
    "ROOT::VecOps::RVec<UChar_t> Jet_neMultiplicityVec,\n",
    "ROOT::VecOps::RVec<Float_t> Jet_chHEFVec,\n",
    "ROOT::VecOps::RVec<Float_t> Jet_muEFVec,\n",
    "ROOT::VecOps::RVec<Float_t> Jet_chEmEFVec,\n",
    "ROOT::RVec<int> nMuon,\n",
    "bool FilterMuon,\n",
    "bool Muons\n",
    "){\n",
    "\n",
    "    int nJets = JetEtaVec.size();\n",
    "    ROOT::RVec <Bool_t> TightVector(nJets, false);\n",
    "\n",
    "    // Loop over recovered jets\n",
    "    for (int idx = 0; idx < nJets; idx++){\n",
    "        Float_t Jet_eta = JetEtaVec[idx];\n",
    "        Float_t Jet_neEmEF = Jet_neEmEFVec[idx];\n",
    "        Float_t Jet_neHEF = Jet_neHEFVec[idx];\n",
    "        UChar_t Jet_chMultiplicity = Jet_chMultiplicityVec[idx];\n",
    "        UChar_t Jet_neMultiplicity = Jet_neMultiplicityVec[idx];\n",
    "        Float_t Jet_chHEF = Jet_chHEFVec[idx];\n",
    "        Float_t Jet_muEF = Jet_muEFVec[idx];\n",
    "        Float_t Jet_chEmEF = Jet_chEmEFVec[idx];\n",
    "        bool Muon = true;\n",
    "\n",
    "        // If FilterMuon == true, filter jets with or without muons\n",
    "        if (FilterMuon){\n",
    "\n",
    "            // If Muons == true, filter only jets that include muons\n",
    "            if (Muons){\n",
    "                Muon = (nMuon[idx] >= 1);\n",
    "            }\n",
    "\n",
    "            // If false, only jets that don't include\n",
    "            else{\n",
    "                Muon = (nMuon[idx] == 0);\n",
    "            }\n",
    "        }\n",
    "\n",
    "        \n",
    "        // Tight criterion\n",
    "        bool Jet_passJetIdTight = false;\n",
    "        if (abs(Jet_eta) <= 2.6) \n",
    "        Jet_passJetIdTight = (Jet_neHEF < 0.99) && (Jet_neEmEF < 0.9) && (Jet_chMultiplicity+Jet_neMultiplicity > 1) && (Jet_chHEF > 0.01) && (Jet_chMultiplicity > 0);\n",
    "        else if (abs(Jet_eta) > 2.6 && abs(Jet_eta) <= 2.7)\n",
    "        Jet_passJetIdTight = (Jet_neHEF < 0.90) && (Jet_neEmEF < 0.99);\n",
    "        else if (abs(Jet_eta) > 2.7 && abs(Jet_eta) <= 3.0)\n",
    "        Jet_passJetIdTight = (Jet_neHEF < 0.99);\n",
    "        else if (abs(Jet_eta) > 3.0)\n",
    "        Jet_passJetIdTight = (Jet_neMultiplicity >= 2) && (Jet_neEmEF < 0.4);\n",
    "\n",
    "        bool Jet_passJetIdTightLepVeto = false;\n",
    "        if (abs(Jet_eta) <= 2.7) Jet_passJetIdTightLepVeto = Jet_passJetIdTight && (Jet_muEF < 0.8) && (Jet_chEmEF < 0.8);\n",
    "        else Jet_passJetIdTightLepVeto = Jet_passJetIdTight;\n",
    "        TightVector[idx] = Jet_passJetIdTight && Muon;\n",
    "    }\n",
    "\n",
    "\n",
    "    return TightVector;\n",
    "}\n",
    "\"\"\"\n",
    "ROOT.gInterpreter.Declare(Filter_tight_jets)"
   ]
  },
  {
   "cell_type": "code",
   "execution_count": null,
   "id": "5b545dd3",
   "metadata": {},
   "outputs": [],
   "source": [
    "# Create a dataframe to deal with jets that pass tight criterion\n",
    "# Define truth vectors for tight jets and jets with and without muons\n",
    "df_tight = (df_tt.Define(\"TightJets\", \"FilterTight(Jet_eta, Jet_neEmEF, Jet_neHEF, Jet_chMultiplicity, Jet_neMultiplicity, Jet_chHEF, Jet_muEF, Jet_chEmEF, Jet_nMuons, false, false)\"))\n",
    "# Define dataframes for jets with and without muons\n",
    "df_muon = (df_tt.Define(\"MuonJets\", \"FilterTight(Jet_eta, Jet_neEmEF, Jet_neHEF, Jet_chMultiplicity, Jet_neMultiplicity, Jet_chHEF, Jet_muEF, Jet_chEmEF, Jet_nMuons, true, true)\"))\n",
    "           \n",
    "df_nomuon = (df_tt.Define(\"NoMuonJets\", \"FilterTight(Jet_eta, Jet_neEmEF, Jet_neHEF, Jet_chMultiplicity, Jet_neMultiplicity, Jet_chHEF, Jet_muEF, Jet_chEmEF, Jet_nMuons, true, false)\"))\n"
   ]
  },
  {
   "cell_type": "code",
   "execution_count": null,
   "id": "8b01fcbb",
   "metadata": {},
   "outputs": [
    {
     "data": {
      "text/plain": [
       "True"
      ]
     },
     "execution_count": 48,
     "metadata": {},
     "output_type": "execute_result"
    }
   ],
   "source": [
    "# Choose values that has truth value\n",
    "apply_cuts = \"\"\"\n",
    "auto ApplyCuts(\n",
    "auto TargetVector, \n",
    "ROOT::RVec<bool> criterion1,\n",
    "ROOT::RVec<bool> criterion2\n",
    ")\n",
    "{\n",
    "    auto ReturnVector = decltype(TargetVector){};\n",
    "    for (int idx = 0; idx < TargetVector.size(); idx++){\n",
    "        if (criterion1[idx] && criterion2[idx]){\n",
    "            ReturnVector.push_back(TargetVector[idx]);\n",
    "        }\n",
    "    }\n",
    "    return ReturnVector;\n",
    "}\n",
    "\"\"\"\n",
    "ROOT.gInterpreter.Declare(apply_cuts)"
   ]
  },
  {
   "cell_type": "code",
   "execution_count": null,
   "id": "971def26",
   "metadata": {},
   "outputs": [],
   "source": [
    "# Remove jets that don't pass the tight criterion and filter out events without jets\n",
    "df_tight = (df_tight.Redefine(\"GenJet4Vector\", \"ApplyCuts(GenJet4Vector, TightJets, TightJets)\")\n",
    "                    .Redefine(\"Jet4Vector\", \"ApplyCuts(Jet4Vector, TightJets, TightJets)\")\n",
    "                    .Redefine(\"GenJet_partonFlavour\", \"ApplyCuts(GenJet_partonFlavour, TightJets, TightJets)\")\n",
    "                    .Redefine(\"Parton4Vector\", \"ApplyCuts(Parton4Vector, TightJets, TightJets)\"))\n",
    "\n",
    "df_tight = df_tight.Filter(\"GenJet4Vector.size() > 0\", \"Must include tight jets\")"
   ]
  },
  {
   "cell_type": "code",
   "execution_count": null,
   "id": "b139cad3",
   "metadata": {},
   "outputs": [
    {
     "data": {
      "text/plain": [
       "True"
      ]
     },
     "execution_count": 50,
     "metadata": {},
     "output_type": "execute_result"
    }
   ],
   "source": [
    "# Used to filter b \n",
    "# Takes specific flavour\n",
    "Filter = \"\"\"\n",
    "ROOT::RVec <ROOT::Math::PtEtaPhiMVector> FilterFlavour(ROOT::RVec<ROOT::Math::PtEtaPhiMVector> CandVector, ROOT::RVec<Int_t> FlavourVector, Int_t Flavour)\n",
    "{\n",
    "    ROOT::RVec <ROOT::Math::PtEtaPhiMVector> FinalVector;\n",
    "\n",
    "    for (int idx = 0; idx < FlavourVector.size(); idx++){\n",
    "    \n",
    "        // Choose only with specific flavour\n",
    "        if (abs(FlavourVector[idx]) == Flavour){\n",
    "            FinalVector.push_back( CandVector[idx]);\n",
    "        }\n",
    "    }\n",
    "    return FinalVector;\n",
    "}\n",
    "\"\"\"\n",
    "\n",
    "ROOT.gInterpreter.Declare(Filter)\n",
    "\n"
   ]
  },
  {
   "cell_type": "code",
   "execution_count": null,
   "id": "cc5746dc",
   "metadata": {},
   "outputs": [],
   "source": [
    "# Choose b jets from tight, muon and without muon 4 vectors\n",
    "df_b = (df_tight.Define(\"bJet4Vector\", \"FilterFlavour(Jet4Vector, GenJet_partonFlavour, 5)\")\n",
    "                .Define(\"bGenJet4Vector\", \"FilterFlavour(GenJet4Vector, GenJet_partonFlavour, 5)\")\n",
    "                .Define(\"bParton4Vector\", \"FilterFlavour(Parton4Vector, GenJet_partonFlavour, 5)\")) # GenJet_partonFlavour can be used, since same order\n",
    "\n",
    "# Remove events without b flavour\n",
    "df_b = df_b.Filter(\"bGenJet4Vector.size() > 0\", \"Filter events with b flavour\")"
   ]
  },
  {
   "cell_type": "code",
   "execution_count": null,
   "id": "4f71ae34",
   "metadata": {},
   "outputs": [
    {
     "data": {
      "text/plain": [
       "True"
      ]
     },
     "execution_count": 52,
     "metadata": {},
     "output_type": "execute_result"
    }
   ],
   "source": [
    "# Flag jets or particles with desired pt interval\n",
    "BoundFilter = \"\"\"\n",
    "ROOT::RVec <Bool_t> BoundFilter(\n",
    "ROOT::RVec<ROOT::Math::PtEtaPhiMVector> CriterionVector, \n",
    "Float_t LowerPtBound, \n",
    "Float_t UpperPtBound,\n",
    "Float_t EtaBound\n",
    ")\n",
    "{\n",
    "    int nJet = CriterionVector.size();\n",
    "    ROOT::RVec <Float_t> FinalVector(nJet, false);\n",
    "\n",
    "    // Loop over jets and set entry true if within the interval\n",
    "    for (int idx = 0; idx < nJet; idx++){\n",
    "        if (CriterionVector[idx].Pt() >= LowerPtBound && \n",
    "            CriterionVector[idx].Pt() <= UpperPtBound &&\n",
    "            abs(CriterionVector[idx].Eta()) <= EtaBound\n",
    "            ){\n",
    "            FinalVector[idx] = true;\n",
    "        }\n",
    "    }\n",
    "    return FinalVector;\n",
    "}\n",
    "\"\"\"\n",
    "\n",
    "ROOT.gInterpreter.Declare(BoundFilter)"
   ]
  },
  {
   "cell_type": "code",
   "execution_count": null,
   "id": "b76328a6",
   "metadata": {},
   "outputs": [],
   "source": [
    "# Find generated and recovered jet pairs such that gen bounds and reco bounds hold \n",
    "# Tracker\n",
    "eta_cut = 2.5\n",
    "Gen_pt_cut = [60, 120]\n",
    "pt_cut = [30, 240]\n",
    "df_b = (df_b.Define(\"GenCuts\", f\"BoundFilter(bGenJet4Vector, {Gen_pt_cut[0]}, {Gen_pt_cut[1]}, {eta_cut})\")\n",
    "            .Define(\"RecoCuts\", f\"BoundFilter(bJet4Vector, {pt_cut[0]}, {pt_cut[1]}, {eta_cut})\"))"
   ]
  },
  {
   "cell_type": "code",
   "execution_count": null,
   "id": "1347f871",
   "metadata": {},
   "outputs": [],
   "source": [
    "# Find generated and recovered jet pairs such that gen bounds and reco bounds hold \n",
    "# Barrel\n",
    "eta_cut_tight = 1.3\n",
    "Gen_pt_cut = [60, 120]\n",
    "pt_cut = [30, 240]\n",
    "df_b_barrel = (df_b.Redefine(\"GenCuts\", f\"BoundFilter(bGenJet4Vector, {Gen_pt_cut[0]}, {Gen_pt_cut[1]}, {eta_cut_tight})\")\n",
    "                    .Redefine(\"RecoCuts\", f\"BoundFilter(bJet4Vector, {pt_cut[0]}, {pt_cut[1]}, {eta_cut_tight})\"))"
   ]
  },
  {
   "cell_type": "code",
   "execution_count": null,
   "id": "7d2efbd3",
   "metadata": {},
   "outputs": [],
   "source": [
    "# Apply cuts for jets\n",
    "df_b = (df_b.Redefine(\"bJet4Vector\", \"ApplyCuts(bJet4Vector, RecoCuts, GenCuts)\")\n",
    "            .Redefine(\"bGenJet4Vector\", \"ApplyCuts(bGenJet4Vector, RecoCuts, GenCuts)\")\n",
    "            .Redefine(\"Parton4Vector\", \"ApplyCuts(Parton4Vector, RecoCuts, GenCuts)\"))\n",
    "\n",
    "df_b_barrel = (df_b_barrel.Redefine(\"bJet4Vector\", \"ApplyCuts(bJet4Vector, RecoCuts, GenCuts)\")\n",
    "                  .Redefine(\"bGenJet4Vector\", \"ApplyCuts(bGenJet4Vector, RecoCuts, GenCuts)\")\n",
    "                  .Redefine(\"Parton4Vector\", \"ApplyCuts(Parton4Vector, RecoCuts, GenCuts)\"))"
   ]
  },
  {
   "cell_type": "code",
   "execution_count": null,
   "id": "d7a99433",
   "metadata": {},
   "outputs": [],
   "source": [
    "# Remove events without valid jet pairs\n",
    "df_b = df_b.Filter(\"bGenJet4Vector.size() > 0\", \"Filter out jets outside the pt interval\")\n",
    "df_b_barrel = df_b_barrel.Filter(\"bGenJet4Vector.size() > 0\", \"Filter out jets outside the pt interval\")"
   ]
  },
  {
   "cell_type": "markdown",
   "id": "67caf256",
   "metadata": {},
   "source": [
    "Compute effects of rescale methods"
   ]
  },
  {
   "cell_type": "code",
   "execution_count": null,
   "id": "c252abfc",
   "metadata": {},
   "outputs": [
    {
     "data": {
      "text/plain": [
       "True"
      ]
     },
     "execution_count": 57,
     "metadata": {},
     "output_type": "execute_result"
    }
   ],
   "source": [
    "# Function to compute response\n",
    "compute_R = \"\"\"\n",
    "ROOT::RVec<float> ComputeR(\n",
    "ROOT::RVec<ROOT::Math::PtEtaPhiMVector> gen, \n",
    "ROOT::RVec<ROOT::Math::PtEtaPhiMVector> reco){\n",
    "    \n",
    "    ROOT::RVec<float> JESVector;\n",
    "    \n",
    "    for (int idx = 0; idx < gen.size(); idx++){\n",
    "        float CandPt = reco[idx].Pt();\n",
    "        float GenCandPt = gen[idx].Pt();\n",
    "        if (CandPt > 0 || GenCandPt > 0){\n",
    "            JESVector.push_back(CandPt / GenCandPt);\n",
    "        }\n",
    "    }\n",
    "    return JESVector;\n",
    "}\n",
    "\"\"\"\n",
    "\n",
    "ROOT.gInterpreter.Declare(compute_R)"
   ]
  },
  {
   "cell_type": "code",
   "execution_count": null,
   "id": "8bb8f022",
   "metadata": {},
   "outputs": [],
   "source": [
    "# Define response for the correction\n",
    "df_b = (df_b.Define(\"bR\", \"ComputeR(bGenJet4Vector,bJet4Vector)\")\n",
    "            .Define(\"xb\", \"ComputeR(bParton4Vector, bGenJet4Vector)\"))\n",
    "\n",
    "df_b_barrel = (df_b_barrel.Define(\"bR\", \"ComputeR(bGenJet4Vector,bJet4Vector)\")\n",
    "                          .Define(\"xb\", \"ComputeR(bParton4Vector, bGenJet4Vector)\"))"
   ]
  },
  {
   "cell_type": "code",
   "execution_count": null,
   "id": "ded3a1e0",
   "metadata": {},
   "outputs": [
    {
     "data": {
      "text/plain": [
       "True"
      ]
     },
     "execution_count": 59,
     "metadata": {},
     "output_type": "execute_result"
    }
   ],
   "source": [
    "# Helper function to extract pt from 4Vector\n",
    "find_pt = \"\"\"\n",
    "ROOT::RVec<float> FindPt(ROOT::RVec<ROOT::Math::PtEtaPhiMVector> Vector){\n",
    "    ROOT::RVec<float> ReturnVector;\n",
    "    for (int i = 0; i < Vector.size(); i++){\n",
    "        ReturnVector.push_back(Vector[i].Pt());\n",
    "    }\n",
    "    return ReturnVector;\n",
    "}\n",
    "\n",
    "\"\"\"\n",
    "ROOT.gInterpreter.Declare(find_pt)"
   ]
  },
  {
   "cell_type": "code",
   "execution_count": null,
   "id": "879ac1fb",
   "metadata": {},
   "outputs": [],
   "source": [
    "# Extract pt from jets for plotting\n",
    "df_b = (df_b.Define(\"GenbPt\", \"FindPt(bGenJet4Vector)\")\n",
    "            .Define(\"PartbPt\", \"FindPt(bParton4Vector)\"))\n",
    "\n",
    "df_b_barrel = (df_b_barrel.Define(\"GenbPt\", \"FindPt(bGenJet4Vector)\")\n",
    "                          .Define(\"PartbPt\", \"FindPt(bParton4Vector)\"))"
   ]
  },
  {
   "cell_type": "code",
   "execution_count": null,
   "id": "73630461",
   "metadata": {},
   "outputs": [
    {
     "data": {
      "text/plain": [
       "True"
      ]
     },
     "execution_count": 61,
     "metadata": {},
     "output_type": "execute_result"
    }
   ],
   "source": [
    "# Flag jets or particles with desired pt interval\n",
    "BoundFilterPlot = \"\"\"\n",
    "ROOT::RVec <Bool_t> BoundFilterPlot(\n",
    "auto CriterionVector, \n",
    "Float_t LowerBound, \n",
    "Float_t UpperBound\n",
    ")\n",
    "{\n",
    "    int nJet = CriterionVector.size();\n",
    "    ROOT::RVec <Float_t> FinalVector(nJet, false);\n",
    "\n",
    "    // Loop over jets and set entry true if within the interval\n",
    "    for (int idx = 0; idx < nJet; idx++){\n",
    "        if (CriterionVector[idx] >= LowerBound && \n",
    "            CriterionVector[idx] <= UpperBound \n",
    "            ){\n",
    "            FinalVector[idx] = true;\n",
    "        }\n",
    "    }\n",
    "    return FinalVector;\n",
    "}\n",
    "\"\"\"\n",
    "\n",
    "ROOT.gInterpreter.Declare(BoundFilterPlot)"
   ]
  },
  {
   "cell_type": "code",
   "execution_count": null,
   "id": "69db8728",
   "metadata": {},
   "outputs": [],
   "source": [
    "# Class for plotting the reweighted responses\n",
    "# Python loops are drastically inefficient, but root didn't want to cooperate with profiles\n",
    "# If profiles work, replace loops\n",
    "class Plotting():\n",
    "\n",
    "\n",
    "\n",
    "    def __init__(self):\n",
    "        self.histo_frame = {}\n",
    "\n",
    "        self.histo_part = {}\n",
    "\n",
    "        self.intervals = None\n",
    "\n",
    "        self.values = {}\n",
    "        self.errors = {}\n",
    "\n",
    "        self.values_part = {}\n",
    "        self.errors_part = {}\n",
    "\n",
    "    # Create pt dependent histogram and save it globally\n",
    "    def Add_Histo_pt(self, DataFrame, Name, Intervals, nBins = 100, xlims = (0,2), Conditions = (\"GenbPt\", \"PartbPt\"), Values = (\"bR\", \"xb\"), weight = \"genWeight\"):\n",
    "\n",
    "        # Slot for filtered histograms\n",
    "        dataframes = []\n",
    "        dataframes_part = []\n",
    "\n",
    "        # Save intervals globaly\n",
    "        self.intervals = Intervals\n",
    "\n",
    "        # Loop through pt bins and save filtered dataframe\n",
    "        for ii in range(len(Intervals) - 1 ):\n",
    "            df_filtered = (DataFrame.Define(\"Cut\", f\"BoundFilterPlot({Conditions[0]}, {Intervals[ii]}, {Intervals[ii+1]})\")\n",
    "                                    .Redefine(Values[0], f\"ApplyCuts({Values[0]}, Cut, Cut)\"))\n",
    "            dataframes.append(df_filtered)\n",
    "\n",
    "            df_filtered_part = (DataFrame.Define(\"Cut\", f\"BoundFilterPlot({Conditions[1]}, {Intervals[ii]}, {Intervals[ii+1]})\")\n",
    "                                    .Redefine(Values[1], f\"ApplyCuts({Values[1]}, Cut, Cut)\"))\n",
    "            dataframes_part.append(df_filtered_part)\n",
    "\n",
    "        # Create histograms for each dataframe\n",
    "        hists = [\n",
    "            df.Histo1D((f\"h_{Name}_{ii}\", \"Jet p_{T}\", nBins, xlims[0], xlims[1]), Values[0], weight)\n",
    "            for df in dataframes\n",
    "        ]\n",
    "\n",
    "        # Create histograms for each dataframe\n",
    "        hists_part = [\n",
    "            df.Histo1D((f\"h_{Name}_{ii}_part\", \"Jet p_{T}\", nBins, xlims[0], xlims[1]), Values[1], weight)\n",
    "            for df in dataframes_part\n",
    "        ]\n",
    "\n",
    "        # Trigger all histogram computations in parallel without Python looping\n",
    "        ROOT.RDF.RunGraphs(hists)\n",
    "        ROOT.RDF.RunGraphs(hists_part)\n",
    "\n",
    "        # Save globaly\n",
    "        self.histo_frame[Name] = hists\n",
    "        self.histo_part[Name] = hists_part\n",
    "\n",
    "    # Computing relative standard deviation\n",
    "    def standard_deviation(self, var1, var2, val1, val2, cov):\n",
    "        numerator = var1 * val2**2 - 2 * cov * val1 * val2 + var2 * val1**2\n",
    "        return 100*np.sqrt(numerator / val2**4)\n",
    "\n",
    "    # Function to compute difference between two profiles binwise\n",
    "    def subtract(self, Name1, Name2):\n",
    "        \n",
    "        # Fetch profiles\n",
    "        histo1 = self.histo_frame[Name1]\n",
    "        histo2 = self.histo_frame[Name2]\n",
    "\n",
    "        histo1_part = self.histo_part[Name1]\n",
    "        histo2_part = self.histo_part[Name2]\n",
    "\n",
    "        # Extract values\n",
    "        val1 = np.array([histo.GetMean() for histo in histo1])\n",
    "        val2 = np.array([histo.GetMean() for histo in histo2])\n",
    "\n",
    "        val1_part = np.array([histo.GetMean() for histo in histo1_part])\n",
    "        val2_part = np.array([histo.GetMean() for histo in histo2_part])\n",
    "\n",
    "        # Extract variances\n",
    "        var1 = np.array([histo.GetStdDev()**2 for histo in histo1])\n",
    "        var2 = np.array([histo.GetStdDev()**2 for histo in histo2]) \n",
    "\n",
    "        var1_part = np.array([histo.GetStdDev()**2 for histo in histo1_part])\n",
    "        var2_part = np.array([histo.GetStdDev()**2 for histo in histo2_part]) \n",
    "\n",
    "        # Compute covariance for relative standard deviation\n",
    "        covariance = np.zeros(len(val1))\n",
    "        covariance_part = np.zeros(len(val1))\n",
    "\n",
    "        for ii in range(len(val1)):\n",
    "            covariance[ii] = histo1[ii].GetCovariance(histo2[ii])\n",
    "            covariance_part[ii] = histo1_part[ii].GetCovariance(histo2_part[ii])\n",
    "\n",
    "        # Compute prosentual difference\n",
    "        value = 100*(val1 - val2) / val2\n",
    "\n",
    "        value_part = 100*(val1_part - val2_part) / val2_part\n",
    "\n",
    "        # Compute error bars\n",
    "        StndDev = self.standard_deviation(var1, var2, val1, val1, covariance)\n",
    "\n",
    "        StndDev_part = self.standard_deviation(var1_part, var2_part, val1_part, val1_part, covariance_part)\n",
    "\n",
    "        # Save globaly\n",
    "        self.values[Name1] = value\n",
    "        self.errors[Name1] = StndDev\n",
    "\n",
    "        self.values_part[Name1] = value_part\n",
    "        self.errors_part[Name1] = StndDev_part\n",
    "\n",
    "\n",
    "\n",
    "    def Profile(self, Name_list, colors=None, ylim=(0, 1), xlabel=\"\", ylabel=\"\", \n",
    "                text=None, log_xscale=False, log_yscale=False,\n",
    "                plot_particles=True, plot_responses=True):\n",
    "        \n",
    "\n",
    "        hep.style.use(\"CMS\")\n",
    "\n",
    "        # Bin widths for xerr\n",
    "        x_error = 0.5 * (self.intervals[1:] - self.intervals[:-1])\n",
    "        bins = 0.5 * (self.intervals[:-1] + self.intervals[1:])\n",
    "\n",
    "        fig1, ax = plt.subplots(figsize=(7, 5))\n",
    "\n",
    "        # Define dynamic markers based on variation name\n",
    "        def get_marker(name, level=\"response\"):\n",
    "            name_lower = name.lower()\n",
    "            if \"up\" in name_lower:\n",
    "                return \"^\" if level==\"response\" else \"v\"\n",
    "            elif \"down\" in name_lower:\n",
    "                return \"s\" if level==\"response\" else \"D\"\n",
    "            else:\n",
    "                return \"o\"\n",
    "\n",
    "        # Colors\n",
    "        response_color = \"#e41a1c\"   # MC-truth / response\n",
    "        particle_color = \"#00923f\"   # particle-level\n",
    "\n",
    "        legend_handles = {}\n",
    "\n",
    "        for ii, name in enumerate(Name_list):\n",
    "            # Response-level\n",
    "            if plot_responses:\n",
    "                means = self.values[name]\n",
    "                y_error = self.errors[name]\n",
    "                marker = get_marker(name, level=\"response\")\n",
    "\n",
    "                h_resp = ax.errorbar(\n",
    "                    bins, means,\n",
    "                    yerr=y_error, xerr=x_error,\n",
    "                    fmt=marker, color=response_color,\n",
    "                    markersize=4, lw=0.8\n",
    "                )\n",
    "                legend_handles[f\"{name} Response\"] = h_resp\n",
    "\n",
    "            # Particle-level\n",
    "            if plot_particles:\n",
    "                means_part = self.values_part[name]\n",
    "                y_error_part = self.errors_part[name]\n",
    "                marker_part = get_marker(name, level=\"particle\")\n",
    "\n",
    "                h_part = ax.errorbar(\n",
    "                    bins, means_part,\n",
    "                    yerr=y_error_part, xerr=x_error,\n",
    "                    fmt=marker_part, color=particle_color,\n",
    "                    markersize=4, lw=0.8\n",
    "                )\n",
    "                legend_handles[f\"{name} Particle\"] = h_part\n",
    "\n",
    "        # Legend with all handles\n",
    "        ax.legend([h[0] for h in legend_handles.values()], list(legend_handles.keys()), fontsize=9)\n",
    "\n",
    "        # Axes settings\n",
    "        if log_xscale: ax.set_xscale(\"log\")\n",
    "        if log_yscale: ax.set_yscale(\"log\")\n",
    "        ax.set_xlabel(xlabel, fontsize=10)\n",
    "        ax.set_ylabel(ylabel, fontsize=10)\n",
    "        ax.set_ylim(ylim[0], ylim[1])\n",
    "        ax.tick_params(axis='both', which='major', labelsize=8)  \n",
    "        ax.tick_params(axis='both', which='minor', labelsize=6)\n",
    "\n",
    "        if text is not None:\n",
    "            ax.text(0.02, 0.90, text, transform=ax.transAxes, fontsize=9)\n",
    "\n",
    "        hep.cms.label(data=False, com=13.6, year=2024, fontsize=10)\n",
    "        plt.tight_layout()\n",
    "        plt.show()\n"
   ]
  },
  {
   "cell_type": "code",
   "execution_count": null,
   "id": "1c3dec77",
   "metadata": {},
   "outputs": [
    {
     "name": "stderr",
     "output_type": "stream",
     "text": [
      "/var/folders/s6/9r2gng9n28jfv8k1p2d_82rr0000gn/T/ipykernel_15218/4103682402.py:87: RuntimeWarning: invalid value encountered in divide\n",
      "  value = 100*(val1 - val2) / val2\n",
      "/var/folders/s6/9r2gng9n28jfv8k1p2d_82rr0000gn/T/ipykernel_15218/4103682402.py:92: RuntimeWarning: invalid value encountered in divide\n",
      "  StndDev = np.sqrt(var1/val2**2 + var2*val1**2/val2**4)\n"
     ]
    },
    {
     "data": {
      "image/png": "[encoded data removed]",
      "text/plain": [
       "<Figure size 700x500 with 1 Axes>"
      ]
     },
     "metadata": {},
     "output_type": "display_data"
    },
    {
     "name": "stderr",
     "output_type": "stream",
     "text": [
      "Warning in <RunGraphs>: Got 9 handles from which 9 link to results which are already ready.\n",
      "Warning in <RunGraphs>: Got 9 handles from which 9 link to results which are already ready.\n",
      "Warning in <RunGraphs>: Got 9 handles from which 9 link to results which are already ready.\n"
     ]
    }
   ],
   "source": [
    "# Plot with the FSR corrections tracker\n",
    "plot = Plotting()\n",
    "\n",
    "Intervals = np.linspace(50, 140, 10)\n",
    "\n",
    "plot.Add_Histo_pt(df_b, \"stnd\", Intervals)\n",
    "plot.Add_Histo_pt(df_b, \"FSR_up\", Intervals, weight=\"w_FSR_up\")\n",
    "plot.Add_Histo_pt(df_b, \"FSR_down\", Intervals, weight=\"w_FSR_down\")\n",
    "\n",
    "plot.subtract(\"FSR_up\", \"stnd\")\n",
    "plot.subtract(\"FSR_down\", \"stnd\")\n",
    "\n",
    "plot.Profile([\"FSR_up\", \"FSR_down\"], [\"#e41a1c\", \"#377eb8\"], (-0.5,0.5), r'$p^{gen}_{T,jet}(GeV)$', r'$R_{scaled} - R_{nominal}(\\%)$')"
   ]
  },
  {
   "cell_type": "code",
   "execution_count": null,
   "id": "9b8855ef",
   "metadata": {},
   "outputs": [
    {
     "name": "stderr",
     "output_type": "stream",
     "text": [
      "/var/folders/s6/9r2gng9n28jfv8k1p2d_82rr0000gn/T/ipykernel_15218/4103682402.py:87: RuntimeWarning: invalid value encountered in divide\n",
      "  value = 100*(val1 - val2) / val2\n",
      "/var/folders/s6/9r2gng9n28jfv8k1p2d_82rr0000gn/T/ipykernel_15218/4103682402.py:92: RuntimeWarning: invalid value encountered in divide\n",
      "  StndDev = np.sqrt(var1/val2**2 + var2*val1**2/val2**4)\n"
     ]
    },
    {
     "data": {
      "image/png": "[encoded data removed]",
      "text/plain": [
       "<Figure size 700x500 with 1 Axes>"
      ]
     },
     "metadata": {},
     "output_type": "display_data"
    },
    {
     "name": "stderr",
     "output_type": "stream",
     "text": [
      "Warning in <RunGraphs>: Got 9 handles from which 9 link to results which are already ready.\n",
      "Warning in <RunGraphs>: Got 9 handles from which 9 link to results which are already ready.\n",
      "Warning in <RunGraphs>: Got 9 handles from which 9 link to results which are already ready.\n",
      "Warning in <RunGraphs>: Got 9 handles from which 9 link to results which are already ready.\n"
     ]
    }
   ],
   "source": [
    "# Plot with semileptonic corrections tracker\n",
    "plot = Plotting()\n",
    "\n",
    "Intervals = np.linspace(50, 140, 10)\n",
    "\n",
    "plot.Add_Histo_pt(df_b, \"stnd\", Intervals)\n",
    "plot.Add_Histo_pt(df_b, \"SL\", Intervals, weight=\"GenWeight_SL\")\n",
    "plot.Add_Histo_pt(df_b, \"SL_up\", Intervals, weight=\"GenWeight_SL_up\")\n",
    "plot.Add_Histo_pt(df_b, \"SL_down\", Intervals, weight=\"GenWeight_SL_down\")\n",
    "\n",
    "plot.subtract(\"SL\", \"stnd\")\n",
    "plot.subtract(\"SL_up\", \"stnd\")\n",
    "plot.subtract(\"SL_down\", \"stnd\")\n",
    "\n",
    "plot.Profile([\"SL\", \"SL_up\", \"SL_down\"], [\"#e41a1c\", \"#377eb8\"], (-0.5,0.5), r'$p^{gen}_{T,jet}(GeV)$', r'$R_{scaled} - R_{nominal}(\\%)$')"
   ]
  },
  {
   "cell_type": "code",
   "execution_count": null,
   "id": "d573805e",
   "metadata": {},
   "outputs": [
    {
     "name": "stderr",
     "output_type": "stream",
     "text": [
      "/var/folders/s6/9r2gng9n28jfv8k1p2d_82rr0000gn/T/ipykernel_15218/4103682402.py:87: RuntimeWarning: invalid value encountered in divide\n",
      "  value = 100*(val1 - val2) / val2\n",
      "/var/folders/s6/9r2gng9n28jfv8k1p2d_82rr0000gn/T/ipykernel_15218/4103682402.py:92: RuntimeWarning: invalid value encountered in divide\n",
      "  StndDev = np.sqrt(var1/val2**2 + var2*val1**2/val2**4)\n"
     ]
    },
    {
     "data": {
      "image/png": "[encoded data removed]",
      "text/plain": [
       "<Figure size 700x500 with 1 Axes>"
      ]
     },
     "metadata": {},
     "output_type": "display_data"
    },
    {
     "name": "stderr",
     "output_type": "stream",
     "text": [
      "Warning in <RunGraphs>: Got 9 handles from which 9 link to results which are already ready.\n",
      "Warning in <RunGraphs>: Got 9 handles from which 9 link to results which are already ready.\n",
      "Warning in <RunGraphs>: Got 9 handles from which 9 link to results which are already ready.\n"
     ]
    }
   ],
   "source": [
    "# Plot with FSR corrections barrel\n",
    "plot = Plotting()\n",
    "\n",
    "Intervals = np.linspace(50, 140, 10)\n",
    "\n",
    "plot.Add_Histo_pt(df_b_barrel, \"stnd\", Intervals)\n",
    "plot.Add_Histo_pt(df_b_barrel, \"FSR_up\", Intervals, weight=\"w_FSR_up\")\n",
    "plot.Add_Histo_pt(df_b_barrel, \"FSR_down\", Intervals, weight=\"w_FSR_down\")\n",
    "\n",
    "plot.subtract(\"FSR_up\", \"stnd\")\n",
    "plot.subtract(\"FSR_down\", \"stnd\")\n",
    "\n",
    "plot.Profile([\"FSR_up\", \"FSR_down\"], [\"#e41a1c\", \"#377eb8\"], (-0.5,0.5), r'$p^{gen}_{T,jet}(GeV)$', r'$R_{scaled} - R_{nominal}(\\%)$')"
   ]
  },
  {
   "cell_type": "code",
   "execution_count": null,
   "id": "b5ccc7d4",
   "metadata": {},
   "outputs": [
    {
     "name": "stderr",
     "output_type": "stream",
     "text": [
      "/var/folders/s6/9r2gng9n28jfv8k1p2d_82rr0000gn/T/ipykernel_15218/4103682402.py:87: RuntimeWarning: invalid value encountered in divide\n",
      "  value = 100*(val1 - val2) / val2\n",
      "/var/folders/s6/9r2gng9n28jfv8k1p2d_82rr0000gn/T/ipykernel_15218/4103682402.py:92: RuntimeWarning: invalid value encountered in divide\n",
      "  StndDev = np.sqrt(var1/val2**2 + var2*val1**2/val2**4)\n"
     ]
    },
    {
     "data": {
      "image/png": "[encoded data removed]",
      "text/plain": [
       "<Figure size 700x500 with 1 Axes>"
      ]
     },
     "metadata": {},
     "output_type": "display_data"
    },
    {
     "name": "stderr",
     "output_type": "stream",
     "text": [
      "Warning in <RunGraphs>: Got 9 handles from which 9 link to results which are already ready.\n",
      "Warning in <RunGraphs>: Got 9 handles from which 9 link to results which are already ready.\n",
      "Warning in <RunGraphs>: Got 9 handles from which 9 link to results which are already ready.\n",
      "Warning in <RunGraphs>: Got 9 handles from which 9 link to results which are already ready.\n"
     ]
    }
   ],
   "source": [
    "# Plot with semileptonic corrections tracker\n",
    "plot = Plotting()\n",
    "\n",
    "Intervals = np.linspace(50, 140, 10)\n",
    "\n",
    "plot.Add_Histo_pt(df_b_barrel, \"stnd\", Intervals)\n",
    "plot.Add_Histo_pt(df_b_barrel, \"SL\", Intervals, weight=\"GenWeight_SL\")\n",
    "plot.Add_Histo_pt(df_b_barrel, \"SL_up\", Intervals, weight=\"GenWeight_SL_up\")\n",
    "plot.Add_Histo_pt(df_b_barrel, \"SL_down\", Intervals, weight=\"GenWeight_SL_down\")\n",
    "\n",
    "plot.subtract(\"SL\", \"stnd\")\n",
    "plot.subtract(\"SL_up\", \"stnd\")\n",
    "plot.subtract(\"SL_down\", \"stnd\")\n",
    "\n",
    "plot.Profile([\"SL\", \"SL_up\", \"SL_down\"], [\"#e41a1c\", \"#377eb8\", \"#4daf4a\"], (-1,1), r'$p^{gen}_{T,jet}(GeV)$', r'$R_{scaled} - R_{nominal}(\\%)$')"
   ]
  },
  {
   "cell_type": "code",
   "execution_count": null,
   "id": "11661ad5",
   "metadata": {},
   "outputs": [
    {
     "name": "stderr",
     "output_type": "stream",
     "text": [
      "/var/folders/s6/9r2gng9n28jfv8k1p2d_82rr0000gn/T/ipykernel_15218/4103682402.py:87: RuntimeWarning: invalid value encountered in divide\n",
      "  value = 100*(val1 - val2) / val2\n",
      "/var/folders/s6/9r2gng9n28jfv8k1p2d_82rr0000gn/T/ipykernel_15218/4103682402.py:92: RuntimeWarning: invalid value encountered in divide\n",
      "  StndDev = np.sqrt(var1/val2**2 + var2*val1**2/val2**4)\n"
     ]
    },
    {
     "data": {
      "image/png": "[encoded data removed]",
      "text/plain": [
       "<Figure size 700x500 with 1 Axes>"
      ]
     },
     "metadata": {},
     "output_type": "display_data"
    },
    {
     "name": "stderr",
     "output_type": "stream",
     "text": [
      "Warning in <RunGraphs>: Got 9 handles from which 9 link to results which are already ready.\n",
      "Warning in <RunGraphs>: Got 9 handles from which 9 link to results which are already ready.\n",
      "Warning in <RunGraphs>: Got 9 handles from which 9 link to results which are already ready.\n",
      "Warning in <RunGraphs>: Got 9 handles from which 9 link to results which are already ready.\n"
     ]
    }
   ],
   "source": [
    "# Individual corrections tracker\n",
    "plot = Plotting()\n",
    "\n",
    "Intervals = np.linspace(50, 140, 10)\n",
    "\n",
    "plot.Add_Histo_pt(df_b, \"stnd\", Intervals)\n",
    "plot.Add_Histo_pt(df_b, \"Ind\", Intervals, weight=\"GenWeight_Ind\")\n",
    "plot.Add_Histo_pt(df_b, \"Ind_up\", Intervals, weight=\"GenWeight_Ind_up\")\n",
    "plot.Add_Histo_pt(df_b, \"Ind_down\", Intervals, weight=\"GenWeight_Ind_down\")\n",
    "\n",
    "plot.subtract(\"Ind\", \"stnd\")\n",
    "plot.subtract(\"Ind_up\", \"stnd\")\n",
    "plot.subtract(\"Ind_down\", \"stnd\")\n",
    "\n",
    "\n",
    "plot.Profile([\"Ind\", \"Ind_up\", \"Ind_down\"], [\"#e41a1c\", \"#377eb8\"], (-1,1), r'$p^{gen}_{T,jet}(GeV)$', r'$R_{scaled} - R_{nominal}(\\%)$')"
   ]
  },
  {
   "cell_type": "code",
   "execution_count": null,
   "id": "a2e2de49",
   "metadata": {},
   "outputs": [
    {
     "name": "stderr",
     "output_type": "stream",
     "text": [
      "/var/folders/s6/9r2gng9n28jfv8k1p2d_82rr0000gn/T/ipykernel_15218/4103682402.py:87: RuntimeWarning: invalid value encountered in divide\n",
      "  value = 100*(val1 - val2) / val2\n",
      "/var/folders/s6/9r2gng9n28jfv8k1p2d_82rr0000gn/T/ipykernel_15218/4103682402.py:92: RuntimeWarning: invalid value encountered in divide\n",
      "  StndDev = np.sqrt(var1/val2**2 + var2*val1**2/val2**4)\n"
     ]
    },
    {
     "data": {
      "image/png": "[encoded data removed]",
      "text/plain": [
       "<Figure size 700x500 with 1 Axes>"
      ]
     },
     "metadata": {},
     "output_type": "display_data"
    },
    {
     "name": "stderr",
     "output_type": "stream",
     "text": [
      "Warning in <RunGraphs>: Got 9 handles from which 9 link to results which are already ready.\n",
      "Warning in <RunGraphs>: Got 9 handles from which 9 link to results which are already ready.\n",
      "Warning in <RunGraphs>: Got 9 handles from which 9 link to results which are already ready.\n",
      "Warning in <RunGraphs>: Got 9 handles from which 9 link to results which are already ready.\n"
     ]
    }
   ],
   "source": [
    "# Individual corrections barrel\n",
    "plot = Plotting()\n",
    "\n",
    "Intervals = np.linspace(50, 140, 10)\n",
    "\n",
    "plot.Add_Histo_pt(df_b_barrel, \"stnd\", Intervals)\n",
    "plot.Add_Histo_pt(df_b_barrel, \"Ind\", Intervals, weight=\"GenWeight_Ind\")\n",
    "plot.Add_Histo_pt(df_b_barrel, \"Ind_up\", Intervals, weight=\"GenWeight_Ind_up\")\n",
    "plot.Add_Histo_pt(df_b_barrel, \"Ind_down\", Intervals, weight=\"GenWeight_Ind_down\")\n",
    "\n",
    "plot.subtract(\"Ind\", \"stnd\")\n",
    "plot.subtract(\"Ind_up\", \"stnd\")\n",
    "plot.subtract(\"Ind_down\", \"stnd\")\n",
    "\n",
    "\n",
    "plot.Profile([\"Ind\", \"Ind_up\", \"Ind_down\"], [\"#e41a1c\", \"#377eb8\", \"#4daf4a\"], (-1,1), r'$p^{gen}_{T,jet}(GeV)$', r'$R_{scaled} - R_{nominal}(\\%)$')"
   ]
  },
  {
   "cell_type": "code",
   "execution_count": null,
   "id": "7f2fd10a",
   "metadata": {},
   "outputs": [
    {
     "ename": "KeyboardInterrupt",
     "evalue": "",
     "output_type": "error",
     "traceback": [
      "\u001b[31m---------------------------------------------------------------------------\u001b[39m",
      "\u001b[31mKeyboardInterrupt\u001b[39m                         Traceback (most recent call last)",
      "\u001b[36mCell\u001b[39m\u001b[36m \u001b[39m\u001b[32mIn[70]\u001b[39m\u001b[32m, line 7\u001b[39m\n\u001b[32m      4\u001b[39m Intervals = np.linspace(\u001b[32m50\u001b[39m, \u001b[32m140\u001b[39m, \u001b[32m10\u001b[39m)\n\u001b[32m      6\u001b[39m plot.Add_Histo_pt(df_b, \u001b[33m\"\u001b[39m\u001b[33mstnd\u001b[39m\u001b[33m\"\u001b[39m, Intervals)\n\u001b[32m----> \u001b[39m\u001b[32m7\u001b[39m \u001b[43mplot\u001b[49m\u001b[43m.\u001b[49m\u001b[43mAdd_Histo_pt\u001b[49m\u001b[43m(\u001b[49m\u001b[43mdf_b\u001b[49m\u001b[43m,\u001b[49m\u001b[43m \u001b[49m\u001b[33;43m\"\u001b[39;49m\u001b[33;43mInd\u001b[39;49m\u001b[33;43m\"\u001b[39;49m\u001b[43m,\u001b[49m\u001b[43m \u001b[49m\u001b[43mIntervals\u001b[49m\u001b[43m,\u001b[49m\u001b[43m \u001b[49m\u001b[43mweight\u001b[49m\u001b[43m=\u001b[49m\u001b[33;43m\"\u001b[39;49m\u001b[33;43mGenWeight_Ind\u001b[39;49m\u001b[33;43m\"\u001b[39;49m\u001b[43m)\u001b[49m\n\u001b[32m      8\u001b[39m plot.Add_Histo_pt(df_b, \u001b[33m\"\u001b[39m\u001b[33mInd_up\u001b[39m\u001b[33m\"\u001b[39m, Intervals, weight=\u001b[33m\"\u001b[39m\u001b[33mGenWeight_Ind_up\u001b[39m\u001b[33m\"\u001b[39m)\n\u001b[32m      9\u001b[39m plot.Add_Histo_pt(df_b, \u001b[33m\"\u001b[39m\u001b[33mInd_down\u001b[39m\u001b[33m\"\u001b[39m, Intervals, weight=\u001b[33m\"\u001b[39m\u001b[33mGenWeight_Ind_down\u001b[39m\u001b[33m\"\u001b[39m)\n",
      "\u001b[36mCell\u001b[39m\u001b[36m \u001b[39m\u001b[32mIn[63]\u001b[39m\u001b[32m, line 54\u001b[39m, in \u001b[36mPlotting.Add_Histo_pt\u001b[39m\u001b[34m(self, DataFrame, Name, Intervals, nBins, xlims, Conditions, Values, weight)\u001b[39m\n\u001b[32m     48\u001b[39m hists_part = [\n\u001b[32m     49\u001b[39m     df.Histo1D((\u001b[33mf\u001b[39m\u001b[33m\"\u001b[39m\u001b[33mh_\u001b[39m\u001b[38;5;132;01m{\u001b[39;00mName\u001b[38;5;132;01m}\u001b[39;00m\u001b[33m_\u001b[39m\u001b[38;5;132;01m{\u001b[39;00mii\u001b[38;5;132;01m}\u001b[39;00m\u001b[33m_part\u001b[39m\u001b[33m\"\u001b[39m, \u001b[33m\"\u001b[39m\u001b[33mJet p_\u001b[39m\u001b[38;5;132;01m{T}\u001b[39;00m\u001b[33m\"\u001b[39m, nBins, xlims[\u001b[32m0\u001b[39m], xlims[\u001b[32m1\u001b[39m]), Values[\u001b[32m1\u001b[39m], weight)\n\u001b[32m     50\u001b[39m     \u001b[38;5;28;01mfor\u001b[39;00m df \u001b[38;5;129;01min\u001b[39;00m dataframes_part\n\u001b[32m     51\u001b[39m ]\n\u001b[32m     53\u001b[39m \u001b[38;5;66;03m# Trigger all histogram computations in parallel without Python looping\u001b[39;00m\n\u001b[32m---> \u001b[39m\u001b[32m54\u001b[39m \u001b[43mROOT\u001b[49m\u001b[43m.\u001b[49m\u001b[43mRDF\u001b[49m\u001b[43m.\u001b[49m\u001b[43mRunGraphs\u001b[49m\u001b[43m(\u001b[49m\u001b[43mhists\u001b[49m\u001b[43m)\u001b[49m\n\u001b[32m     55\u001b[39m ROOT.RDF.RunGraphs(hists_part)\n\u001b[32m     57\u001b[39m \u001b[38;5;66;03m# Save globaly\u001b[39;00m\n",
      "\u001b[31mKeyboardInterrupt\u001b[39m: "
     ]
    },
    {
     "name": "stderr",
     "output_type": "stream",
     "text": [
      "Warning in <RunGraphs>: Got 9 handles from which 9 link to results which are already ready.\n"
     ]
    }
   ],
   "source": [
    "# Inclusive corrections tracker\n",
    "plot = Plotting()\n",
    "\n",
    "Intervals = np.linspace(50, 140, 10)\n",
    "\n",
    "plot.Add_Histo_pt(df_b, \"stnd\", Intervals)\n",
    "plot.Add_Histo_pt(df_b, \"Inc\", Intervals, weight=\"GenWeight_Inc\")\n",
    "plot.Add_Histo_pt(df_b, \"Inc_up\", Intervals, weight=\"GenWeight_Inc_up\")\n",
    "plot.Add_Histo_pt(df_b, \"Inc_down\", Intervals, weight=\"GenWeight_Inc_down\")\n",
    "\n",
    "plot.subtract(\"Inc\", \"stnd\")\n",
    "plot.subtract(\"Inc_up\", \"stnd\")\n",
    "plot.subtract(\"Inc_down\", \"stnd\")\n",
    "\n",
    "\n",
    "plot.Profile([\"Inc\", \"Inc_up\", \"Inc_down\"], [\"#e41a1c\", \"#377eb8\", \"#4daf4a\"], (-0.5,0.5), r'$p^{gen}_{T,jet}(GeV)$', r'$R_{scaled} - R_{nominal}(\\%)$')"
   ]
  },
  {
   "cell_type": "code",
   "execution_count": null,
   "id": "1454282c",
   "metadata": {},
   "outputs": [],
   "source": [
    "# Inclusive corrections tracker\n",
    "plot = Plotting()\n",
    "\n",
    "Intervals = np.linspace(50, 140, 10)\n",
    "\n",
    "plot.Add_Histo_pt(df_b_barrel, \"stnd\", Intervals)\n",
    "plot.Add_Histo_pt(df_b_barrel, \"Inc\", Intervals, weight=\"GenWeight_Inc\")\n",
    "plot.Add_Histo_pt(df_b_barrel, \"Inc_up\", Intervals, weight=\"GenWeight_Inc_up\")\n",
    "plot.Add_Histo_pt(df_b_barrel, \"Inc_down\", Intervals, weight=\"GenWeight_Inc_down\")\n",
    "\n",
    "plot.subtract(\"Inc\", \"stnd\")\n",
    "plot.subtract(\"Inc_up\", \"stnd\")\n",
    "plot.subtract(\"Inc_down\", \"stnd\")\n",
    "\n",
    "\n",
    "plot.Profile([\"Inc\", \"Inc_up\", \"Inc_down\"], [\"#e41a1c\", \"#377eb8\", \"#4daf4a\"], (-0.5,0.5), r'$p^{gen}_{T,jet}(GeV)$', r'$R_{scaled} - R_{nominal}(\\%)$')"
   ]
  }
 ],
 "metadata": {
  "kernelspec": {
   "display_name": "hep",
   "language": "python",
   "name": "python3"
  },
  "language_info": {
   "codemirror_mode": {
    "name": "ipython",
    "version": 3
   },
   "file_extension": ".py",
   "mimetype": "text/x-python",
   "name": "python",
   "nbconvert_exporter": "python",
   "pygments_lexer": "ipython3",
   "version": "3.13.3"
  }
 },
 "nbformat": 4,
 "nbformat_minor": 5
}
